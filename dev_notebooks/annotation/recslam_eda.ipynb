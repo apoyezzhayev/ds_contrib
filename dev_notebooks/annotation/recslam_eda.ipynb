{
 "cells": [
  {
   "cell_type": "markdown",
   "metadata": {},
   "source": [
    "# recslam\n",
    "\n",
    "> Tools for EDA of visual data collected in the RecSLAM project.\n"
   ]
  },
  {
   "cell_type": "code",
   "execution_count": 1,
   "metadata": {},
   "outputs": [],
   "source": [
    "# default_exp tools.recslam_eda"
   ]
  },
  {
   "cell_type": "code",
   "execution_count": 2,
   "metadata": {},
   "outputs": [],
   "source": [
    "#| hide\n",
    "%load_ext autoreload\n",
    "%autoreload 2\n",
    "%matplotlib inline"
   ]
  },
  {
   "cell_type": "code",
   "execution_count": 3,
   "metadata": {},
   "outputs": [],
   "source": [
    "### | export\n",
    "# | hide"
   ]
  },
  {
   "cell_type": "code",
   "execution_count": 4,
   "metadata": {},
   "outputs": [],
   "source": [
    "from ds_contrib.tools.io.gscloud import GSBrowser\n",
    "from pathlib import Path"
   ]
  },
  {
   "cell_type": "code",
   "execution_count": 14,
   "metadata": {},
   "outputs": [
    {
     "name": "stdout",
     "output_type": "stream",
     "text": [
      "Initial configuration has finished:\n",
      "Project: {'project': 'roadly-project-dev', 'env': 'dev', 'coldline_name': 'standard'}\n"
     ]
    }
   ],
   "source": [
    "## | hide\n",
    "\n",
    "import json\n",
    "import os\n",
    "from pathlib import Path\n",
    "\n",
    "from dotenv import load_dotenv\n",
    "\n",
    "CWD = Path.cwd()\n",
    "REPO_DIR = Path(*CWD.parts[: CWD.parts.index(\"ds_contrib\") + 1])\n",
    "CONFIGS_DIR = REPO_DIR / \"configs\"\n",
    "ENV_DIR = REPO_DIR / \"env/local\"\n",
    "\n",
    "with open(CONFIGS_DIR / \"storage/gscloud/projects_vars.json\") as f:\n",
    "    projects = json.load(f)\n",
    "\n",
    "# choose project\n",
    "project = projects[\"dev\"]\n",
    "env_path = Path(ENV_DIR / f'{project[\"env\"]}_roadly.env')\n",
    "\n",
    "_ = load_dotenv(env_path)  # read local .env file\n",
    "google_app_creds = os.getenv(\"GOOGLE_APPLICATION_CREDENTIALS\")\n",
    "roadly_cookie = os.getenv(\"ROADLY_COOKIE\")\n",
    "print(f\"Initial configuration has finished:\\nProject: {project}\")"
   ]
  },
  {
   "cell_type": "code",
   "execution_count": 7,
   "metadata": {},
   "outputs": [],
   "source": [
    "import pandas as pd"
   ]
  },
  {
   "cell_type": "code",
   "execution_count": 8,
   "metadata": {},
   "outputs": [],
   "source": [
    "def json_decoder(path: Path):\n",
    "    with open(path, \"r\") as f:\n",
    "        data = json.load(f)\n",
    "    return data\n",
    "\n",
    "\n",
    "def csv_decoder(path: Path):\n",
    "    with open(path, \"r\") as f:\n",
    "        data = pd.read_csv(f)\n",
    "    return data"
   ]
  },
  {
   "cell_type": "code",
   "execution_count": 58,
   "metadata": {},
   "outputs": [],
   "source": [
    "def get_reclslam_df(recslam_dir: Path, structure: dict):\n",
    "    return pd.DataFrame.from_records(\n",
    "        [(k, v[\"desc\"], recslam_dir / v[\"path\"]) for k, v in structure.items()],\n",
    "        index=\"name\",\n",
    "        columns=[\"name\", \"desc\", \"path\"],\n",
    "    )"
   ]
  },
  {
   "cell_type": "code",
   "execution_count": 59,
   "metadata": {},
   "outputs": [],
   "source": [
    "# | export\n",
    "# | hide\n",
    "from dataclasses import dataclass"
   ]
  },
  {
   "cell_type": "code",
   "execution_count": 60,
   "metadata": {},
   "outputs": [],
   "source": [
    "# | export\n",
    "\n",
    "\n",
    "@dataclass\n",
    "class CameraMetadataDTO:\n",
    "    field_of_view: float\n",
    "    camera_type: str\n",
    "    fps: int\n",
    "    resolution: tuple[int, int]\n",
    "    focal_length: float\n",
    "\n",
    "\n",
    "@dataclass\n",
    "class DeviceMetadataDTO:\n",
    "    os: str\n",
    "    device: str\n",
    "    device_raw: str\n",
    "    app_version: str\n",
    "    exposure_mode: str\n",
    "    max_exposure_time: float\n",
    "    camera_lense_position: int\n",
    "    orientation: str\n",
    "    wide_camera: CameraMetadataDTO\n",
    "    ultra_wide_camera: CameraMetadataDTO\n",
    "\n",
    "    @classmethod\n",
    "    def from_json(cls, json_file):\n",
    "        with open(json_file) as f:\n",
    "            data = json.load(f)\n",
    "            wide_camera = CameraMetadataDTO(\n",
    "                data[\"cam_fov_2\"],\n",
    "                data[\"camera_type_2\"],\n",
    "                data[\"fps2\"],\n",
    "                tuple(map(int, data[\"video_resolution_2\"].split(\"x\"))),\n",
    "                data[\"cam_fx_2\"],\n",
    "            )\n",
    "            ultra_wide_camera = CameraMetadataDTO(\n",
    "                data[\"cam_fov\"],\n",
    "                data[\"camera_type\"],\n",
    "                data[\"fps\"],\n",
    "                tuple(map(int, data[\"video_resolution\"].split(\"x\"))),\n",
    "                data[\"cam_fx\"],\n",
    "            )\n",
    "            return cls(\n",
    "                data[\"os\"],\n",
    "                data[\"device\"],\n",
    "                data[\"device_raw\"],\n",
    "                data[\"app_version\"],\n",
    "                data[\"exposure_mode\"],\n",
    "                data[\"max_exposure\"],\n",
    "                data[\"cam_lens_pos\"],\n",
    "                data[\"orientation\"],\n",
    "                wide_camera,\n",
    "                ultra_wide_camera,\n",
    "            )"
   ]
  },
  {
   "cell_type": "code",
   "execution_count": 61,
   "metadata": {},
   "outputs": [],
   "source": [
    "# df = get_reclslam_df(SHARED_ROOT, recslam_structure)"
   ]
  },
  {
   "cell_type": "code",
   "execution_count": 62,
   "metadata": {},
   "outputs": [],
   "source": [
    "# device = DeviceMetadataDTO.from_json(df.loc[\"device\"][\"path\"])"
   ]
  },
  {
   "cell_type": "code",
   "execution_count": 63,
   "metadata": {},
   "outputs": [],
   "source": [
    "# device.ultra_wide_camera.fps"
   ]
  },
  {
   "cell_type": "code",
   "execution_count": 64,
   "metadata": {},
   "outputs": [],
   "source": [
    "# csv_decoder(df.loc[\"heading\"][\"path\"])"
   ]
  },
  {
   "cell_type": "code",
   "execution_count": 65,
   "metadata": {},
   "outputs": [],
   "source": [
    "# browser.cleanup()"
   ]
  },
  {
   "cell_type": "markdown",
   "metadata": {},
   "source": [
    "1. Choose reclslam path\n",
    "2. Download video and meta\n",
    "3. Split video to frames\n",
    "4. Run video browser\n",
    "5. Export dataset to csv\n"
   ]
  },
  {
   "cell_type": "code",
   "execution_count": 66,
   "metadata": {},
   "outputs": [],
   "source": [
    "sampled_datasets = pd.read_csv(\"/Users/arseniy/Downloads/выборка.csv\")"
   ]
  },
  {
   "cell_type": "code",
   "execution_count": 67,
   "metadata": {},
   "outputs": [
    {
     "data": {
      "text/html": [
       "<div>\n",
       "<style scoped>\n",
       "    .dataframe tbody tr th:only-of-type {\n",
       "        vertical-align: middle;\n",
       "    }\n",
       "\n",
       "    .dataframe tbody tr th {\n",
       "        vertical-align: top;\n",
       "    }\n",
       "\n",
       "    .dataframe thead th {\n",
       "        text-align: right;\n",
       "    }\n",
       "</style>\n",
       "<table border=\"1\" class=\"dataframe\">\n",
       "  <thead>\n",
       "    <tr style=\"text-align: right;\">\n",
       "      <th></th>\n",
       "      <th>Unnamed: 0.1</th>\n",
       "      <th>Unnamed: 0</th>\n",
       "      <th>Path</th>\n",
       "      <th>Datetime</th>\n",
       "      <th>Country</th>\n",
       "      <th>City</th>\n",
       "      <th>Speed</th>\n",
       "      <th>Route</th>\n",
       "      <th>iri_mean</th>\n",
       "      <th>iri_var</th>\n",
       "      <th>...</th>\n",
       "      <th>ultrawide</th>\n",
       "      <th>video_data</th>\n",
       "      <th>name</th>\n",
       "      <th>local_path</th>\n",
       "      <th>fps</th>\n",
       "      <th>frame_count</th>\n",
       "      <th>duration</th>\n",
       "      <th>Решение</th>\n",
       "      <th>Причина</th>\n",
       "      <th>video_url</th>\n",
       "    </tr>\n",
       "  </thead>\n",
       "  <tbody>\n",
       "    <tr>\n",
       "      <th>0</th>\n",
       "      <td>0</td>\n",
       "      <td>3652</td>\n",
       "      <td>Alanya/2022-07-17_09-05-31_4453D774-04F</td>\n",
       "      <td>2022-07-17 10:05:32</td>\n",
       "      <td>Turkey</td>\n",
       "      <td>NaN</td>\n",
       "      <td>13.399114</td>\n",
       "      <td>LINESTRING (29.113155 36.661371, 29.113136 36....</td>\n",
       "      <td>10.881955</td>\n",
       "      <td>36.128544</td>\n",
       "      <td>...</td>\n",
       "      <td>True</td>\n",
       "      <td>False</td>\n",
       "      <td>2022-07-17_09-05-31_4453D774-04F</td>\n",
       "      <td>data/downloads/2022-07-17_09-05-31_4453D774-04...</td>\n",
       "      <td>5.000158</td>\n",
       "      <td>529</td>\n",
       "      <td>105.796667</td>\n",
       "      <td>Не подходит?</td>\n",
       "      <td>Брусчатка</td>\n",
       "      <td>https://storage.cloud.google.com/roadly-dev-st...</td>\n",
       "    </tr>\n",
       "    <tr>\n",
       "      <th>1</th>\n",
       "      <td>1</td>\n",
       "      <td>3537</td>\n",
       "      <td>2022-12-17_15-33-16_83AB9828-5B0</td>\n",
       "      <td>2022-12-17 14:33:16</td>\n",
       "      <td>Uzbekistan</td>\n",
       "      <td>NaN</td>\n",
       "      <td>13.874303</td>\n",
       "      <td>LINESTRING (69.074585 41.123241, 69.074628 41....</td>\n",
       "      <td>11.176429</td>\n",
       "      <td>23.879309</td>\n",
       "      <td>...</td>\n",
       "      <td>True</td>\n",
       "      <td>False</td>\n",
       "      <td>2022-12-17_15-33-16_83AB9828-5B0</td>\n",
       "      <td>data/downloads/2022-12-17_15-33-16_83AB9828-5B...</td>\n",
       "      <td>5.000035</td>\n",
       "      <td>1200</td>\n",
       "      <td>239.998333</td>\n",
       "      <td>Подходит</td>\n",
       "      <td>NaN</td>\n",
       "      <td>https://storage.cloud.google.com/roadly-dev-st...</td>\n",
       "    </tr>\n",
       "    <tr>\n",
       "      <th>2</th>\n",
       "      <td>2</td>\n",
       "      <td>3471</td>\n",
       "      <td>2022-12-17_16-12-01_83AB9828-5B0</td>\n",
       "      <td>2022-12-17 15:12:01</td>\n",
       "      <td>Uzbekistan</td>\n",
       "      <td>Tashkent</td>\n",
       "      <td>9.621945</td>\n",
       "      <td>LINESTRING (69.250847 41.292218, 69.250845 41....</td>\n",
       "      <td>8.533605</td>\n",
       "      <td>19.737184</td>\n",
       "      <td>...</td>\n",
       "      <td>True</td>\n",
       "      <td>False</td>\n",
       "      <td>2022-12-17_16-12-01_83AB9828-5B0</td>\n",
       "      <td>data/downloads/2022-12-17_16-12-01_83AB9828-5B...</td>\n",
       "      <td>5.000072</td>\n",
       "      <td>575</td>\n",
       "      <td>114.998333</td>\n",
       "      <td>Подходит</td>\n",
       "      <td>NaN</td>\n",
       "      <td>https://storage.cloud.google.com/roadly-dev-st...</td>\n",
       "    </tr>\n",
       "    <tr>\n",
       "      <th>3</th>\n",
       "      <td>3</td>\n",
       "      <td>14</td>\n",
       "      <td>2022-12-17_15-44-08_83AB9828-5B0</td>\n",
       "      <td>2022-12-17 14:44:08</td>\n",
       "      <td>Uzbekistan</td>\n",
       "      <td>NaN</td>\n",
       "      <td>13.776954</td>\n",
       "      <td>LINESTRING (69.136316 41.178227, 69.136369 41....</td>\n",
       "      <td>10.047226</td>\n",
       "      <td>18.226671</td>\n",
       "      <td>...</td>\n",
       "      <td>True</td>\n",
       "      <td>False</td>\n",
       "      <td>2022-12-17_15-44-08_83AB9828-5B0</td>\n",
       "      <td>data/downloads/2022-12-17_15-44-08_83AB9828-5B...</td>\n",
       "      <td>5.000074</td>\n",
       "      <td>1129</td>\n",
       "      <td>225.796667</td>\n",
       "      <td>Подходит</td>\n",
       "      <td>NaN</td>\n",
       "      <td>https://storage.cloud.google.com/roadly-dev-st...</td>\n",
       "    </tr>\n",
       "    <tr>\n",
       "      <th>4</th>\n",
       "      <td>4</td>\n",
       "      <td>3936</td>\n",
       "      <td>2022-12-17_13-32-09_83AB9828-5B0</td>\n",
       "      <td>2022-12-17 12:32:10</td>\n",
       "      <td>Uzbekistan</td>\n",
       "      <td>NaN</td>\n",
       "      <td>10.560251</td>\n",
       "      <td>LINESTRING (69.0679 41.129758, 69.067904 41.12...</td>\n",
       "      <td>10.391300</td>\n",
       "      <td>16.992052</td>\n",
       "      <td>...</td>\n",
       "      <td>True</td>\n",
       "      <td>False</td>\n",
       "      <td>2022-12-17_13-32-09_83AB9828-5B0</td>\n",
       "      <td>data/downloads/2022-12-17_13-32-09_83AB9828-5B...</td>\n",
       "      <td>5.000132</td>\n",
       "      <td>316</td>\n",
       "      <td>63.198333</td>\n",
       "      <td>Подходит</td>\n",
       "      <td>NaN</td>\n",
       "      <td>https://storage.cloud.google.com/roadly-dev-st...</td>\n",
       "    </tr>\n",
       "    <tr>\n",
       "      <th>...</th>\n",
       "      <td>...</td>\n",
       "      <td>...</td>\n",
       "      <td>...</td>\n",
       "      <td>...</td>\n",
       "      <td>...</td>\n",
       "      <td>...</td>\n",
       "      <td>...</td>\n",
       "      <td>...</td>\n",
       "      <td>...</td>\n",
       "      <td>...</td>\n",
       "      <td>...</td>\n",
       "      <td>...</td>\n",
       "      <td>...</td>\n",
       "      <td>...</td>\n",
       "      <td>...</td>\n",
       "      <td>...</td>\n",
       "      <td>...</td>\n",
       "      <td>...</td>\n",
       "      <td>...</td>\n",
       "      <td>...</td>\n",
       "      <td>...</td>\n",
       "    </tr>\n",
       "    <tr>\n",
       "      <th>118</th>\n",
       "      <td>118</td>\n",
       "      <td>4086</td>\n",
       "      <td>Antalya/2022-03-08_12-00-17_4453</td>\n",
       "      <td>2022-03-08 13:00:16</td>\n",
       "      <td>Turkey</td>\n",
       "      <td>NaN</td>\n",
       "      <td>8.116465</td>\n",
       "      <td>LINESTRING (32.096358 36.488346, 32.096334 36....</td>\n",
       "      <td>3.158568</td>\n",
       "      <td>0.611353</td>\n",
       "      <td>...</td>\n",
       "      <td>True</td>\n",
       "      <td>False</td>\n",
       "      <td>2022-03-08_12-00-17_4453</td>\n",
       "      <td>data/downloads/2022-03-08_12-00-17_4453.mp4</td>\n",
       "      <td>5.000138</td>\n",
       "      <td>605</td>\n",
       "      <td>120.996667</td>\n",
       "      <td>Не подходит</td>\n",
       "      <td>Мало дефектов</td>\n",
       "      <td>https://storage.cloud.google.com/roadly-dev-st...</td>\n",
       "    </tr>\n",
       "    <tr>\n",
       "      <th>119</th>\n",
       "      <td>119</td>\n",
       "      <td>3805</td>\n",
       "      <td>Dubai/2022-05-28_22-55-34_2A24</td>\n",
       "      <td>2022-05-28 22:55:34</td>\n",
       "      <td>United Arab Emirates</td>\n",
       "      <td>NaN</td>\n",
       "      <td>9.440000</td>\n",
       "      <td>LINESTRING (55.37714 25.142569, 55.37721 25.14...</td>\n",
       "      <td>4.130825</td>\n",
       "      <td>0.607832</td>\n",
       "      <td>...</td>\n",
       "      <td>True</td>\n",
       "      <td>False</td>\n",
       "      <td>2022-05-28_22-55-34_2A24</td>\n",
       "      <td>data/downloads/2022-05-28_22-55-34_2A24.mp4</td>\n",
       "      <td>1.000000</td>\n",
       "      <td>7</td>\n",
       "      <td>7.000000</td>\n",
       "      <td>Не подходит</td>\n",
       "      <td>это просто стол</td>\n",
       "      <td>https://storage.cloud.google.com/roadly-dev-st...</td>\n",
       "    </tr>\n",
       "    <tr>\n",
       "      <th>120</th>\n",
       "      <td>120</td>\n",
       "      <td>4105</td>\n",
       "      <td>Antalya/2022-03-08_11-57-55_4453</td>\n",
       "      <td>2022-03-08 12:57:54</td>\n",
       "      <td>Turkey</td>\n",
       "      <td>NaN</td>\n",
       "      <td>6.728861</td>\n",
       "      <td>LINESTRING (32.100665 36.485887, 32.100655 36....</td>\n",
       "      <td>3.172593</td>\n",
       "      <td>0.463560</td>\n",
       "      <td>...</td>\n",
       "      <td>True</td>\n",
       "      <td>False</td>\n",
       "      <td>2022-03-08_11-57-55_4453</td>\n",
       "      <td>data/downloads/2022-03-08_11-57-55_4453.mp4</td>\n",
       "      <td>0.000000</td>\n",
       "      <td>0</td>\n",
       "      <td>0.000000</td>\n",
       "      <td>NaN</td>\n",
       "      <td>NaN</td>\n",
       "      <td>https://storage.cloud.google.com/roadly-dev-st...</td>\n",
       "    </tr>\n",
       "    <tr>\n",
       "      <th>121</th>\n",
       "      <td>121</td>\n",
       "      <td>3603</td>\n",
       "      <td>Alanya/2022-06-22_21-35-56_4453D774-04F</td>\n",
       "      <td>2022-06-22 21:35:57</td>\n",
       "      <td>Georgia</td>\n",
       "      <td>Batumi</td>\n",
       "      <td>9.462348</td>\n",
       "      <td>LINESTRING (41.61358 41.60342, 41.61361 41.603...</td>\n",
       "      <td>3.623128</td>\n",
       "      <td>0.448510</td>\n",
       "      <td>...</td>\n",
       "      <td>True</td>\n",
       "      <td>False</td>\n",
       "      <td>2022-06-22_21-35-56_4453D774-04F</td>\n",
       "      <td>data/downloads/2022-06-22_21-35-56_4453D774-04...</td>\n",
       "      <td>5.000222</td>\n",
       "      <td>375</td>\n",
       "      <td>74.996667</td>\n",
       "      <td>Не подходит</td>\n",
       "      <td>Ночь\\Лужи</td>\n",
       "      <td>https://storage.cloud.google.com/roadly-dev-st...</td>\n",
       "    </tr>\n",
       "    <tr>\n",
       "      <th>122</th>\n",
       "      <td>122</td>\n",
       "      <td>4081</td>\n",
       "      <td>Antalya/2022-03-08_12-05-03_4453</td>\n",
       "      <td>2022-03-08 13:05:03</td>\n",
       "      <td>Turkey</td>\n",
       "      <td>NaN</td>\n",
       "      <td>8.519116</td>\n",
       "      <td>LINESTRING (32.093135 36.491349, 32.093135 36....</td>\n",
       "      <td>3.228163</td>\n",
       "      <td>0.367494</td>\n",
       "      <td>...</td>\n",
       "      <td>True</td>\n",
       "      <td>False</td>\n",
       "      <td>2022-03-08_12-05-03_4453</td>\n",
       "      <td>data/downloads/2022-03-08_12-05-03_4453.mp4</td>\n",
       "      <td>5.000173</td>\n",
       "      <td>1444</td>\n",
       "      <td>288.790000</td>\n",
       "      <td>Подходит</td>\n",
       "      <td>NaN</td>\n",
       "      <td>https://storage.cloud.google.com/roadly-dev-st...</td>\n",
       "    </tr>\n",
       "  </tbody>\n",
       "</table>\n",
       "<p>123 rows × 22 columns</p>\n",
       "</div>"
      ],
      "text/plain": [
       "     Unnamed: 0.1  Unnamed: 0                                     Path   \n",
       "0               0        3652  Alanya/2022-07-17_09-05-31_4453D774-04F  \\\n",
       "1               1        3537         2022-12-17_15-33-16_83AB9828-5B0   \n",
       "2               2        3471         2022-12-17_16-12-01_83AB9828-5B0   \n",
       "3               3          14         2022-12-17_15-44-08_83AB9828-5B0   \n",
       "4               4        3936         2022-12-17_13-32-09_83AB9828-5B0   \n",
       "..            ...         ...                                      ...   \n",
       "118           118        4086         Antalya/2022-03-08_12-00-17_4453   \n",
       "119           119        3805           Dubai/2022-05-28_22-55-34_2A24   \n",
       "120           120        4105         Antalya/2022-03-08_11-57-55_4453   \n",
       "121           121        3603  Alanya/2022-06-22_21-35-56_4453D774-04F   \n",
       "122           122        4081         Antalya/2022-03-08_12-05-03_4453   \n",
       "\n",
       "                Datetime               Country      City      Speed   \n",
       "0    2022-07-17 10:05:32                Turkey       NaN  13.399114  \\\n",
       "1    2022-12-17 14:33:16            Uzbekistan       NaN  13.874303   \n",
       "2    2022-12-17 15:12:01            Uzbekistan  Tashkent   9.621945   \n",
       "3    2022-12-17 14:44:08            Uzbekistan       NaN  13.776954   \n",
       "4    2022-12-17 12:32:10            Uzbekistan       NaN  10.560251   \n",
       "..                   ...                   ...       ...        ...   \n",
       "118  2022-03-08 13:00:16                Turkey       NaN   8.116465   \n",
       "119  2022-05-28 22:55:34  United Arab Emirates       NaN   9.440000   \n",
       "120  2022-03-08 12:57:54                Turkey       NaN   6.728861   \n",
       "121  2022-06-22 21:35:57               Georgia    Batumi   9.462348   \n",
       "122  2022-03-08 13:05:03                Turkey       NaN   8.519116   \n",
       "\n",
       "                                                 Route   iri_mean    iri_var   \n",
       "0    LINESTRING (29.113155 36.661371, 29.113136 36....  10.881955  36.128544  \\\n",
       "1    LINESTRING (69.074585 41.123241, 69.074628 41....  11.176429  23.879309   \n",
       "2    LINESTRING (69.250847 41.292218, 69.250845 41....   8.533605  19.737184   \n",
       "3    LINESTRING (69.136316 41.178227, 69.136369 41....  10.047226  18.226671   \n",
       "4    LINESTRING (69.0679 41.129758, 69.067904 41.12...  10.391300  16.992052   \n",
       "..                                                 ...        ...        ...   \n",
       "118  LINESTRING (32.096358 36.488346, 32.096334 36....   3.158568   0.611353   \n",
       "119  LINESTRING (55.37714 25.142569, 55.37721 25.14...   4.130825   0.607832   \n",
       "120  LINESTRING (32.100665 36.485887, 32.100655 36....   3.172593   0.463560   \n",
       "121  LINESTRING (41.61358 41.60342, 41.61361 41.603...   3.623128   0.448510   \n",
       "122  LINESTRING (32.093135 36.491349, 32.093135 36....   3.228163   0.367494   \n",
       "\n",
       "     ... ultrawide  video_data                              name   \n",
       "0    ...      True       False  2022-07-17_09-05-31_4453D774-04F  \\\n",
       "1    ...      True       False  2022-12-17_15-33-16_83AB9828-5B0   \n",
       "2    ...      True       False  2022-12-17_16-12-01_83AB9828-5B0   \n",
       "3    ...      True       False  2022-12-17_15-44-08_83AB9828-5B0   \n",
       "4    ...      True       False  2022-12-17_13-32-09_83AB9828-5B0   \n",
       "..   ...       ...         ...                               ...   \n",
       "118  ...      True       False          2022-03-08_12-00-17_4453   \n",
       "119  ...      True       False          2022-05-28_22-55-34_2A24   \n",
       "120  ...      True       False          2022-03-08_11-57-55_4453   \n",
       "121  ...      True       False  2022-06-22_21-35-56_4453D774-04F   \n",
       "122  ...      True       False          2022-03-08_12-05-03_4453   \n",
       "\n",
       "                                            local_path       fps frame_count   \n",
       "0    data/downloads/2022-07-17_09-05-31_4453D774-04...  5.000158         529  \\\n",
       "1    data/downloads/2022-12-17_15-33-16_83AB9828-5B...  5.000035        1200   \n",
       "2    data/downloads/2022-12-17_16-12-01_83AB9828-5B...  5.000072         575   \n",
       "3    data/downloads/2022-12-17_15-44-08_83AB9828-5B...  5.000074        1129   \n",
       "4    data/downloads/2022-12-17_13-32-09_83AB9828-5B...  5.000132         316   \n",
       "..                                                 ...       ...         ...   \n",
       "118        data/downloads/2022-03-08_12-00-17_4453.mp4  5.000138         605   \n",
       "119        data/downloads/2022-05-28_22-55-34_2A24.mp4  1.000000           7   \n",
       "120        data/downloads/2022-03-08_11-57-55_4453.mp4  0.000000           0   \n",
       "121  data/downloads/2022-06-22_21-35-56_4453D774-04...  5.000222         375   \n",
       "122        data/downloads/2022-03-08_12-05-03_4453.mp4  5.000173        1444   \n",
       "\n",
       "       duration       Решение          Причина   \n",
       "0    105.796667  Не подходит?        Брусчатка  \\\n",
       "1    239.998333      Подходит              NaN   \n",
       "2    114.998333      Подходит              NaN   \n",
       "3    225.796667      Подходит              NaN   \n",
       "4     63.198333      Подходит              NaN   \n",
       "..          ...           ...              ...   \n",
       "118  120.996667   Не подходит    Мало дефектов   \n",
       "119    7.000000   Не подходит  это просто стол   \n",
       "120    0.000000           NaN              NaN   \n",
       "121   74.996667   Не подходит        Ночь\\Лужи   \n",
       "122  288.790000      Подходит              NaN   \n",
       "\n",
       "                                             video_url  \n",
       "0    https://storage.cloud.google.com/roadly-dev-st...  \n",
       "1    https://storage.cloud.google.com/roadly-dev-st...  \n",
       "2    https://storage.cloud.google.com/roadly-dev-st...  \n",
       "3    https://storage.cloud.google.com/roadly-dev-st...  \n",
       "4    https://storage.cloud.google.com/roadly-dev-st...  \n",
       "..                                                 ...  \n",
       "118  https://storage.cloud.google.com/roadly-dev-st...  \n",
       "119  https://storage.cloud.google.com/roadly-dev-st...  \n",
       "120  https://storage.cloud.google.com/roadly-dev-st...  \n",
       "121  https://storage.cloud.google.com/roadly-dev-st...  \n",
       "122  https://storage.cloud.google.com/roadly-dev-st...  \n",
       "\n",
       "[123 rows x 22 columns]"
      ]
     },
     "execution_count": 67,
     "metadata": {},
     "output_type": "execute_result"
    }
   ],
   "source": [
    "sampled_datasets"
   ]
  },
  {
   "cell_type": "code",
   "execution_count": 68,
   "metadata": {},
   "outputs": [],
   "source": [
    "items = sampled_datasets[\"name\"].sort_values()"
   ]
  },
  {
   "cell_type": "code",
   "execution_count": 72,
   "metadata": {},
   "outputs": [
    {
     "data": {
      "application/vnd.jupyter.widget-view+json": {
       "model_id": "7c3cdefafa1447a4a626b6b02a817f24",
       "version_major": 2,
       "version_minor": 0
      },
      "text/plain": [
       "Dropdown(description='Files:', options=('2021-11-21_15-17-06_4453', '2022-02-04_14-45-39_4453', '2022-02-04_14…"
      ]
     },
     "metadata": {},
     "output_type": "display_data"
    }
   ],
   "source": [
    "import os\n",
    "import ipywidgets as widgets\n",
    "from IPython.display import display\n",
    "\n",
    "\n",
    "def create_items_dropdown(items):\n",
    "    \"\"\"Create a dropdown widget with files in the specified directory.\"\"\"\n",
    "    # List all files in the directory\n",
    "    # Create a dropdown widget with the files\n",
    "    dropdown = widgets.Dropdown(\n",
    "        options=items,\n",
    "        description=\"Files:\",\n",
    "        disabled=False,\n",
    "    )\n",
    "\n",
    "    # Display the widget\n",
    "    display(dropdown)\n",
    "\n",
    "    return dropdown\n",
    "\n",
    "\n",
    "# Call the function with your desired directory\n",
    "dropdown = create_items_dropdown(items)"
   ]
  },
  {
   "cell_type": "code",
   "execution_count": 73,
   "metadata": {},
   "outputs": [
    {
     "data": {
      "text/plain": [
       "'2021-11-21_15-17-06_4453'"
      ]
     },
     "execution_count": 73,
     "metadata": {},
     "output_type": "execute_result"
    }
   ],
   "source": [
    "dropdown.value"
   ]
  },
  {
   "cell_type": "code",
   "execution_count": 74,
   "metadata": {},
   "outputs": [],
   "source": [
    "chosen_video = sampled_datasets[sampled_datasets[\"name\"] == dropdown.value][\n",
    "    \"video_url\"\n",
    "].values[0]"
   ]
  },
  {
   "cell_type": "code",
   "execution_count": 75,
   "metadata": {},
   "outputs": [],
   "source": [
    "# RECSLAM_PATH = Path(\n",
    "#     \"roadly-dev-standard-videos/auto_6ed96cb21f4a72b8c225853250fae9ed4acdd17c82567484bffb9014d2dc2eb4\"\n",
    "# )\n",
    "# RECSLAM_VIDEO_PATH = Path(\"2023-03-27_16-32-15_C305D2C3-6BF\")\n",
    "# LOCAL_RECSLAM_PATH = browser.downloads_path / RECSLAM_PATH / RECSLAM_VIDEO_PATH\n",
    "# LOCAL_RECSLAM_PATH"
   ]
  },
  {
   "cell_type": "code",
   "execution_count": 76,
   "metadata": {},
   "outputs": [],
   "source": [
    "google_app_creds = os.getenv(\"GOOGLE_APPLICATION_CREDENTIALS\")\n",
    "browser = GSBrowser(project=project[\"project\"], credentials=google_app_creds)"
   ]
  },
  {
   "cell_type": "code",
   "execution_count": 77,
   "metadata": {},
   "outputs": [
    {
     "name": "stderr",
     "output_type": "stream",
     "text": [
      "INFO:ds_contrib.core.paths:Created temporary directory for downloads: `/Users/arseniy/Projects/dev/ds_contrib/dev_notebooks/annotation/tmpjit4crc8`\n",
      "INFO:ds_contrib.tools.io.gscloud:Downloading file from URI: `Calibration/2021-11-21_15-17-06_4453/video_2` to path: `/Users/arseniy/Projects/dev/ds_contrib/dev_notebooks/annotation/tmpjit4crc8/roadly-dev-standard-videos/Calibration/2021-11-21_15-17-06_4453/video_2`\n",
      "INFO:google.resumable_media._helpers:No MD5 checksum was returned from the service while downloading https://storage.googleapis.com/download/storage/v1/b/roadly-dev-standard-videos/o/Calibration%2F2021-11-21_15-17-06_4453%2Fvideo_2?generation=1685751024671958&alt=media\n",
      "(which happens for composite objects), so client-side content integrity\n",
      "checking is not being performed.\n"
     ]
    }
   ],
   "source": [
    "browser.download_file(chosen_video)"
   ]
  },
  {
   "cell_type": "code",
   "execution_count": 78,
   "metadata": {},
   "outputs": [],
   "source": [
    "from ds_contrib.core.paths import list_paths\n",
    "\n",
    "\n",
    "LOCAL_RECSLAM_PATH = list(list_paths(browser.downloads_path, recursive=True))[0].parent"
   ]
  },
  {
   "cell_type": "code",
   "execution_count": 79,
   "metadata": {},
   "outputs": [
    {
     "data": {
      "application/vnd.jupyter.widget-view+json": {
       "model_id": "887b664f8ecf4ffaa499506f625d9982",
       "version_major": 2,
       "version_minor": 0
      },
      "text/plain": [
       "Sampling frames:   0%|          | 0/153 [00:00<?, ?it/s]"
      ]
     },
     "metadata": {},
     "output_type": "display_data"
    }
   ],
   "source": [
    "from ds_contrib.core.data.video import sample_frames_from_video\n",
    "\n",
    "\n",
    "sample_frames_from_video(\n",
    "    LOCAL_RECSLAM_PATH / \"video_2\", LOCAL_RECSLAM_PATH / \"frames\", time_delta=2\n",
    ")"
   ]
  },
  {
   "cell_type": "code",
   "execution_count": 80,
   "metadata": {},
   "outputs": [],
   "source": [
    "# from ds_contrib.core.paths import list_paths\n",
    "\n",
    "\n",
    "# list(list_paths(LOCAL_RECSLAM_PATH / \"frames\", recursive=True, sort=True))"
   ]
  },
  {
   "cell_type": "code",
   "execution_count": 82,
   "metadata": {},
   "outputs": [
    {
     "data": {
      "application/vnd.jupyter.widget-view+json": {
       "model_id": "38e1561183874cc88123d66af587af3d",
       "version_major": 2,
       "version_minor": 0
      },
      "text/plain": [
       "VBox(children=(Text(value='[1] Image: /Users/arseniy/Projects/dev/ds_contrib/dev_notebooks/annotation/tmpjit4c…"
      ]
     },
     "metadata": {},
     "output_type": "display_data"
    }
   ],
   "source": [
    "from ds_contrib.core.paths import list_paths\n",
    "from ds_contrib.tools.browser import ImageBrowser\n",
    "\n",
    "\n",
    "ib = ImageBrowser(\n",
    "    list(list_paths(LOCAL_RECSLAM_PATH / \"frames\", recursive=True, sort=True))\n",
    ")\n",
    "ib.browse()"
   ]
  },
  {
   "cell_type": "code",
   "execution_count": 47,
   "metadata": {},
   "outputs": [],
   "source": [
    "# pd.read_csv(\"test.csv\")"
   ]
  },
  {
   "cell_type": "code",
   "execution_count": 48,
   "metadata": {},
   "outputs": [
    {
     "name": "stderr",
     "output_type": "stream",
     "text": [
      "INFO:ds_contrib.core.paths:Cleaning up temporary directory `/Users/arseniy/Projects/dev/ds_contrib/dev_notebooks/annotation/tmprx34dhgl`\n"
     ]
    }
   ],
   "source": [
    "browser.downloads_dir.cleanup()"
   ]
  },
  {
   "cell_type": "code",
   "execution_count": null,
   "metadata": {},
   "outputs": [],
   "source": []
  }
 ],
 "metadata": {
  "kernelspec": {
   "display_name": "python3",
   "language": "python",
   "name": "python3"
  },
  "language_info": {
   "codemirror_mode": {
    "name": "ipython",
    "version": 3
   },
   "file_extension": ".py",
   "mimetype": "text/x-python",
   "name": "python",
   "nbconvert_exporter": "python",
   "pygments_lexer": "ipython3",
   "version": "3.10.12"
  }
 },
 "nbformat": 4,
 "nbformat_minor": 2
}
