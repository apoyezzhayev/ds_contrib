{
 "cells": [
  {
   "cell_type": "code",
   "execution_count": 7,
   "metadata": {},
   "outputs": [],
   "source": [
    "import json\n",
    "import os\n",
    "from pathlib import Path\n",
    "\n",
    "import ipywidgets as widgets\n",
    "import pandas as pd\n",
    "from dotenv import load_dotenv\n",
    "from IPython.display import display\n",
    "\n",
    "from ds_contrib.tools.io.gscloud import GSBrowser"
   ]
  },
  {
   "cell_type": "code",
   "execution_count": 8,
   "metadata": {},
   "outputs": [
    {
     "name": "stdout",
     "output_type": "stream",
     "text": [
      "Initial configuration has finished:\n",
      "Project: {'project': 'roadly-project-dev', 'env': 'dev', 'coldline_name': 'standard'}\n"
     ]
    }
   ],
   "source": [
    "## | hide\n",
    "\n",
    "\n",
    "CONFIGS_DIR = Path(\"../../configs/storage/gscloud/\")\n",
    "ENV_DIR = Path(\"../../configs/env/local/\")\n",
    "\n",
    "with open(CONFIGS_DIR / \"projects_vars.json\") as f:\n",
    "    projects = json.load(f)\n",
    "\n",
    "# choose project\n",
    "project = projects[\"dev\"]\n",
    "env_path = Path(ENV_DIR / f'{project[\"env\"]}_roadly.env')\n",
    "\n",
    "_ = load_dotenv(env_path)  # read local .env file\n",
    "google_app_creds = os.getenv(\"GOOGLE_APPLICATION_CREDENTIALS\")\n",
    "roadly_cookie = os.getenv(\"ROADLY_COOKIE\")\n",
    "print(f\"Initial configuration has finished:\\nProject: {project}\")"
   ]
  },
  {
   "cell_type": "code",
   "execution_count": 9,
   "metadata": {},
   "outputs": [],
   "source": [
    "def get_reclslam_df(recslam_dir: Path, structure: dict):\n",
    "    return pd.DataFrame.from_records(\n",
    "        [(k, v[\"desc\"], recslam_dir / v[\"path\"]) for k, v in structure.items()],\n",
    "        index=\"name\",\n",
    "        columns=[\"name\", \"desc\", \"path\"],\n",
    "    )"
   ]
  },
  {
   "cell_type": "markdown",
   "metadata": {},
   "source": [
    "1. Choose reclslam path\n",
    "2. Download video and meta\n",
    "3. Split video to frames\n",
    "4. Run video browser\n",
    "5. Export dataset to csv\n"
   ]
  },
  {
   "cell_type": "code",
   "execution_count": 10,
   "metadata": {},
   "outputs": [],
   "source": [
    "sampled_datasets = pd.read_csv(\"/Users/arseniy/Downloads/выборка.csv\")\n",
    "items = sampled_datasets[\"name\"].sort_values()"
   ]
  },
  {
   "cell_type": "code",
   "execution_count": 12,
   "metadata": {},
   "outputs": [],
   "source": [
    "def create_items_dropdown(items):\n",
    "    \"\"\"Create a dropdown widget with files in the specified directory.\"\"\"\n",
    "    # List all files in the directory\n",
    "    # Create a dropdown widget with the files\n",
    "    dropdown = widgets.Dropdown(\n",
    "        options=items,\n",
    "        description=\"Files:\",\n",
    "        disabled=False,\n",
    "    )\n",
    "\n",
    "    # Display the widget\n",
    "    display(dropdown)\n",
    "\n",
    "    return dropdown"
   ]
  },
  {
   "cell_type": "code",
   "execution_count": 13,
   "metadata": {},
   "outputs": [
    {
     "data": {
      "application/vnd.jupyter.widget-view+json": {
       "model_id": "9166ec5c5fa24c82ab0eb8a4752293a0",
       "version_major": 2,
       "version_minor": 0
      },
      "text/plain": [
       "Dropdown(description='Files:', options=('2021-11-21_15-17-06_4453', '2022-02-04_14-45-39_4453', '2022-02-04_14…"
      ]
     },
     "metadata": {},
     "output_type": "display_data"
    }
   ],
   "source": [
    "# Call the function with your desired directory\n",
    "dropdown = create_items_dropdown(items)"
   ]
  },
  {
   "cell_type": "code",
   "execution_count": 26,
   "metadata": {},
   "outputs": [],
   "source": [
    "chosen_video = sampled_datasets[sampled_datasets[\"name\"] == dropdown.value][\n",
    "    \"video_url\"\n",
    "].values[0]"
   ]
  },
  {
   "cell_type": "code",
   "execution_count": 27,
   "metadata": {},
   "outputs": [],
   "source": [
    "google_app_creds = os.getenv(\"GOOGLE_APPLICATION_CREDENTIALS\")\n",
    "browser = GSBrowser(project=project[\"project\"], credentials=google_app_creds)"
   ]
  },
  {
   "cell_type": "code",
   "execution_count": 28,
   "metadata": {},
   "outputs": [
    {
     "name": "stderr",
     "output_type": "stream",
     "text": [
      "INFO:ds_contrib.core.paths:Created temporary directory for downloads: `/Users/arseniy/Projects/dev/ds_contrib/dev_notebooks/annotation/tmpj8b5e_sx`\n",
      "INFO:ds_contrib.tools.io.gscloud:Downloading file from URI: `Highway_Drives/2022-05-07_05-30-22_FA04EAE3-A6A/video_2` to path: `/Users/arseniy/Projects/dev/ds_contrib/dev_notebooks/annotation/tmpj8b5e_sx/roadly-dev-standard-videos/Highway_Drives/2022-05-07_05-30-22_FA04EAE3-A6A/video_2`\n",
      "INFO:google.resumable_media._helpers:No MD5 checksum was returned from the service while downloading https://storage.googleapis.com/download/storage/v1/b/roadly-dev-standard-videos/o/Highway_Drives%2F2022-05-07_05-30-22_FA04EAE3-A6A%2Fvideo_2?generation=1685751361077352&alt=media\n",
      "(which happens for composite objects), so client-side content integrity\n",
      "checking is not being performed.\n"
     ]
    }
   ],
   "source": [
    "browser.download_file(chosen_video)"
   ]
  },
  {
   "cell_type": "code",
   "execution_count": 29,
   "metadata": {},
   "outputs": [],
   "source": [
    "from ds_contrib.core.paths import list_paths\n",
    "\n",
    "\n",
    "LOCAL_RECSLAM_PATH = list(list_paths(browser.downloads_path, recursive=True))[0].parent"
   ]
  },
  {
   "cell_type": "code",
   "execution_count": 30,
   "metadata": {},
   "outputs": [
    {
     "data": {
      "application/vnd.jupyter.widget-view+json": {
       "model_id": "4947657f1b37491e8f76131c06c7fca4",
       "version_major": 2,
       "version_minor": 0
      },
      "text/plain": [
       "Sampling frames:   0%|          | 0/303 [00:00<?, ?it/s]"
      ]
     },
     "metadata": {},
     "output_type": "display_data"
    }
   ],
   "source": [
    "from ds_contrib.core.data.video import sample_frames_from_video\n",
    "\n",
    "\n",
    "sample_frames_from_video(\n",
    "    LOCAL_RECSLAM_PATH / \"video_2\", LOCAL_RECSLAM_PATH / \"frames\", time_delta=2\n",
    ")"
   ]
  },
  {
   "cell_type": "code",
   "execution_count": 31,
   "metadata": {},
   "outputs": [
    {
     "data": {
      "application/vnd.jupyter.widget-view+json": {
       "model_id": "768f7d88597f457286f854bce55c51e1",
       "version_major": 2,
       "version_minor": 0
      },
      "text/plain": [
       "VBox(children=(Text(value='[1] Image: /Users/arseniy/Projects/dev/ds_contrib/dev_notebooks/annotation/tmpj8b5e…"
      ]
     },
     "metadata": {},
     "output_type": "display_data"
    }
   ],
   "source": [
    "from ds_contrib.core.paths import list_paths\n",
    "from ds_contrib.tools.browser import ImageBrowser\n",
    "\n",
    "\n",
    "ib = ImageBrowser(\n",
    "    list(list_paths(LOCAL_RECSLAM_PATH / \"frames\", recursive=True, sort=True))\n",
    ")\n",
    "ib.browse()"
   ]
  },
  {
   "cell_type": "code",
   "execution_count": 48,
   "metadata": {},
   "outputs": [
    {
     "name": "stderr",
     "output_type": "stream",
     "text": [
      "INFO:ds_contrib.core.paths:Cleaning up temporary directory `/Users/arseniy/Projects/dev/ds_contrib/dev_notebooks/annotation/tmprx34dhgl`\n"
     ]
    }
   ],
   "source": [
    "browser.downloads_dir.cleanup()"
   ]
  }
 ],
 "metadata": {
  "kernelspec": {
   "display_name": "python3",
   "language": "python",
   "name": "python3"
  },
  "language_info": {
   "codemirror_mode": {
    "name": "ipython",
    "version": 3
   },
   "file_extension": ".py",
   "mimetype": "text/x-python",
   "name": "python",
   "nbconvert_exporter": "python",
   "pygments_lexer": "ipython3",
   "version": "3.10.12"
  }
 },
 "nbformat": 4,
 "nbformat_minor": 2
}
