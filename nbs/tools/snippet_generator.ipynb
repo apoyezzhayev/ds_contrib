{
 "cells": [
  {
   "cell_type": "markdown",
   "metadata": {},
   "source": [
    "# snippet generator\n",
    "\n",
    "> Tool for user's snippets generation\n"
   ]
  },
  {
   "cell_type": "code",
   "execution_count": null,
   "metadata": {},
   "outputs": [],
   "source": [
    "# | default_exp tools.jupyter.snippet_generator"
   ]
  },
  {
   "cell_type": "code",
   "execution_count": null,
   "metadata": {},
   "outputs": [],
   "source": [
    "# | export\n",
    "# | hide\n",
    "\n",
    "import argparse\n",
    "import json\n",
    "import shlex\n",
    "\n",
    "from IPython.core.magic import register_cell_magic"
   ]
  },
  {
   "cell_type": "code",
   "execution_count": null,
   "metadata": {},
   "outputs": [],
   "source": [
    "# | export\n",
    "# | hide\n",
    "\n",
    "\n",
    "def _convert_to_snippet(\n",
    "    code: str, snippet_name: str, prefix: str, description: str | None = None\n",
    "):\n",
    "    if not snippet_name or not prefix:\n",
    "        raise ValueError(\n",
    "            \"snippet_name and prefix must be provided, use -n and -d arguments\"\n",
    "        )\n",
    "    lines = code.split(\"\\n\")[:-1]\n",
    "    json_data = {\n",
    "        snippet_name: {\n",
    "            \"prefix\": prefix,\n",
    "            \"body\": lines,\n",
    "            \"description\": description if description else snippet_name,\n",
    "        }\n",
    "    }\n",
    "    str_repr = json.dumps(json_data, indent=4)\n",
    "    return \"\\n\".join(str_repr.split(\"\\n\")[1:-1])"
   ]
  },
  {
   "cell_type": "code",
   "execution_count": null,
   "metadata": {},
   "outputs": [],
   "source": [
    "# | export\n",
    "\n",
    "\n",
    "@register_cell_magic\n",
    "def to_snippet_str(line, cell):\n",
    "    \"\"\"Convert a cell to a VSCode snippet string\n",
    "\n",
    "    Use it as a cell magic in Jupyter notebooks:\n",
    "    `%%to_snippet_str -n snippet_name -p prefix -d description`\n",
    "    -d is optional\n",
    "\n",
    "    -n is the name of the snippet in snippets declaration file\n",
    "    -p is the prefix for the snippet, it is used to trigger the snippet, e.g. if the prefix is \"snippet\", then typing \"snippet\" in\n",
    "        the editor will trigger the snippet (it will be injected into autocompletion)\n",
    "    -d is the description of the snippet, it is shown in the autocompletion\n",
    "\n",
    "    Parameters\n",
    "    ----------\n",
    "    line : int, it will be specified by Jupyter\n",
    "    cell : int, it will be specified by Jupyter\n",
    "    \"\"\"\n",
    "    # Use shlex.split for a shell-like split keeping quoted strings together\n",
    "    tokens = shlex.split(line)\n",
    "\n",
    "    # Initialize argparse parser\n",
    "    parser = argparse.ArgumentParser()\n",
    "    parser.add_argument(\"-n\", \"--name\", help=\"Snippet name\")\n",
    "    parser.add_argument(\"-p\", \"--prefix\", help=\"Prefix for the snippet\")\n",
    "    parser.add_argument(\"-d\", \"--description\", help=\"Description for the snippet\")\n",
    "    parser.add_argument(\n",
    "        \"-f\",\n",
    "        \"--file\",\n",
    "        help=\"File to save the snippet to\",\n",
    "        default=\"~/Library/Application Support/Code/User/snippets/jupyter_notebook_snippets.code-snippets\",\n",
    "    )\n",
    "\n",
    "    # Use shlex.split to treat the line as a command-line input\n",
    "    args = parser.parse_args(tokens)\n",
    "\n",
    "    snippet = _convert_to_snippet(cell, args.name, args.prefix, args.description)\n",
    "    print(snippet)"
   ]
  },
  {
   "cell_type": "markdown",
   "metadata": {},
   "source": [
    "#### Snippets generation\n",
    "\n",
    "Use `%%to_snippet_str` magic function to choose a cell for snippet export. Exporting snippet is used for generation of snippets string that may be copied to the clipboard and pasted into the snippets declaration file.\n",
    "\n",
    "In VSCode this file may be found or created at the path specified in the `snippets` setting.\n",
    "\n",
    "1. Open the Command Palette by pressing `Ctrl+Shift+P` (Windows/Linux) or `Cmd+Shift+P` (macOS).\n",
    "2. Type \"Preferences: Configure User Snippets\" and select the language for which you want to create a snippet (e.g., \"Python\").\n",
    "3. Select the \"New Global Snippets File\" option and save the file with a descriptive name, such as \"python-snippets.json\".\n",
    "4. In the new snippets file, add a new snippet object with a descriptive name and a prefix that you will use to trigger the snippet (e.g., \"json_decoder\").\n",
    "5. Set the \"body\" property of the snippet object to the code that you pasted from the Jupyter Notebook snippet.\n",
    "6. Save the snippets file.\n",
    "\n",
    "You can now use your new snippet by typing the prefix that you set and pressing `Tab`. The code from the Jupyter Notebook snippet will be inserted into your code file.\n"
   ]
  },
  {
   "cell_type": "markdown",
   "metadata": {},
   "source": [
    "We could export following code to a string representation\n"
   ]
  },
  {
   "cell_type": "code",
   "execution_count": null,
   "metadata": {},
   "outputs": [
    {
     "name": "stdout",
     "output_type": "stream",
     "text": [
      "    \"test_a\": {\n",
      "        \"prefix\": \"test_a\",\n",
      "        \"body\": [\n",
      "            \"#| code_fold: show\",\n",
      "            \"\",\n",
      "            \"def a():\",\n",
      "            \"    pass\"\n",
      "        ],\n",
      "        \"description\": \"test_a\"\n",
      "    }\n"
     ]
    }
   ],
   "source": [
    "%%to_snippet_str -n test_a -p test_a\n",
    "#| hide\n",
    "\n",
    "def a():\n",
    "    pass"
   ]
  },
  {
   "cell_type": "markdown",
   "metadata": {},
   "source": [
    "And copy it to snippets file\n"
   ]
  },
  {
   "cell_type": "code",
   "execution_count": null,
   "metadata": {},
   "outputs": [],
   "source": [
    "# | hide\n",
    "from nbdev.showdoc import *"
   ]
  },
  {
   "cell_type": "code",
   "execution_count": null,
   "metadata": {},
   "outputs": [],
   "source": [
    "# | hide\n",
    "import nbdev\n",
    "\n",
    "nbdev.nbdev_export()"
   ]
  },
  {
   "cell_type": "code",
   "execution_count": null,
   "metadata": {},
   "outputs": [],
   "source": []
  }
 ],
 "metadata": {
  "kernelspec": {
   "display_name": "python3",
   "language": "python",
   "name": "python3"
  }
 },
 "nbformat": 4,
 "nbformat_minor": 2
}
