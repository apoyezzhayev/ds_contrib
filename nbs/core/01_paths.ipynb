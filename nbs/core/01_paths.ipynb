{
 "cells": [
  {
   "cell_type": "markdown",
   "metadata": {},
   "source": [
    "# paths\n",
    "\n",
    "> Module of path processing and utility functions\n"
   ]
  },
  {
   "cell_type": "code",
   "execution_count": null,
   "metadata": {},
   "outputs": [],
   "source": [
    "# | default_exp core.paths"
   ]
  },
  {
   "cell_type": "code",
   "execution_count": null,
   "metadata": {},
   "outputs": [
    {
     "name": "stdout",
     "output_type": "stream",
     "text": [
      "The autoreload extension is already loaded. To reload it, use:\n",
      "  %reload_ext autoreload\n"
     ]
    }
   ],
   "source": [
    "# | hide\n",
    "%load_ext autoreload\n",
    "%autoreload 2"
   ]
  },
  {
   "cell_type": "code",
   "execution_count": null,
   "metadata": {},
   "outputs": [],
   "source": [
    "# | export\n",
    "from __future__ import annotations\n",
    "\n",
    "import logging\n",
    "import os\n",
    "import re\n",
    "import shutil\n",
    "import weakref as _weakref\n",
    "from datetime import datetime\n",
    "from pathlib import Path\n",
    "from tempfile import TemporaryDirectory\n",
    "from typing import Iterable\n",
    "\n",
    "from pydantic import PathNotADirectoryError\n",
    "\n",
    "from ds_contrib.core.utils import Iterifiable, iterify"
   ]
  },
  {
   "cell_type": "code",
   "execution_count": null,
   "metadata": {},
   "outputs": [],
   "source": [
    "# | export\n",
    "# | hide\n",
    "\n",
    "logger = logging.getLogger(__name__)"
   ]
  },
  {
   "cell_type": "code",
   "execution_count": null,
   "metadata": {},
   "outputs": [],
   "source": [
    "# | export\n",
    "PathLike = str | os.PathLike | None"
   ]
  },
  {
   "cell_type": "markdown",
   "metadata": {},
   "source": [
    "We could use it to convert objects to iterables\n"
   ]
  },
  {
   "cell_type": "code",
   "execution_count": null,
   "metadata": {},
   "outputs": [],
   "source": [
    "# | export\n",
    "# | hide\n",
    "\n",
    "\n",
    "def _list_all_paths(paths: Iterable[Path], recursive):\n",
    "    \"\"\"List all paths in a list of paths, if a path is a folder, list all paths in that folder.\n",
    "\n",
    "    Parameters\n",
    "    ----------\n",
    "    paths : Iterable[Path]\n",
    "        _description_\n",
    "    recursive : _type_\n",
    "        _description_\n",
    "\n",
    "    Yields\n",
    "    ------\n",
    "    _type_\n",
    "        _description_\n",
    "\n",
    "    Raises\n",
    "    ------\n",
    "    FileNotFoundError\n",
    "        _description_\n",
    "    \"\"\"\n",
    "    for p in paths:\n",
    "        if not p.exists() or p is None:\n",
    "            raise FileNotFoundError(f\"File or folder {p} does not exist.\")\n",
    "        if p.is_dir():\n",
    "            if recursive:\n",
    "                yield from p.rglob(\"*\")\n",
    "            else:\n",
    "                yield from p.glob(\"*\")\n",
    "        else:\n",
    "            yield p"
   ]
  },
  {
   "cell_type": "code",
   "execution_count": null,
   "metadata": {},
   "outputs": [],
   "source": [
    "# | export\n",
    "\n",
    "\n",
    "def list_paths(\n",
    "    paths: Iterifiable[PathLike],\n",
    "    pattern: re.Pattern | str | None = None,\n",
    "    recursive=False,\n",
    "    sort=False,\n",
    "    only_files=True,\n",
    ") -> Iterable[Path]:\n",
    "    \"\"\"List all files in paths matching a pattern.\n",
    "\n",
    "    Parameters\n",
    "    ----------\n",
    "    paths : Iterifiable[PathLike]\n",
    "        Single PathLike object or an iterable of PathLike objects\n",
    "    pattern : re.Pattern | str | None, optional\n",
    "        regex pattern to match file names, e.g. r'.*\\.jpg$', r'.*\\.(jpg|png)$', r'part_0000/.*\\.jpg', if None, all files are returned, by default None\n",
    "    recursive : bool, optional\n",
    "        if True, search recursively in subfolders of paths, by default False\n",
    "    sort : bool, optional\n",
    "        if True, sort the resulting list of paths, by default False\n",
    "    only_files : bool, optional\n",
    "        if True, only return files, if False, return files and folders, by default True\n",
    "\n",
    "    Returns\n",
    "    -------\n",
    "    Iterable[Path]\n",
    "        Iterable of Path objects\n",
    "\n",
    "    Raises\n",
    "    ------\n",
    "    ValueError\n",
    "        If pattern is not a string or a compiled regex pattern or `None`.\n",
    "    \"\"\"\n",
    "\n",
    "    result = _list_all_paths(\n",
    "        map(lambda p: Path(p), iterify(paths)), recursive=recursive\n",
    "    )\n",
    "\n",
    "    if isinstance(pattern, (str, re.Pattern)):\n",
    "        if isinstance(pattern, str):\n",
    "            pattern = re.compile(pattern)\n",
    "        pattern = re.compile(pattern)\n",
    "    else:\n",
    "        if pattern is not None:\n",
    "            raise ValueError(\n",
    "                f\"Pattern must be a string or a compiled regex pattern or `None`, got {type(pattern)}\"\n",
    "            )\n",
    "    if only_files:\n",
    "        result = filter(lambda p: p.is_file(), result)\n",
    "    if pattern:\n",
    "        result = filter(lambda p: pattern.match(str(p)), result)\n",
    "    return sorted(result) if sort else result"
   ]
  },
  {
   "cell_type": "code",
   "execution_count": null,
   "metadata": {},
   "outputs": [
    {
     "data": {
      "text/plain": [
       "[PosixPath('/Users/arseniy/Projects/dev/ds_contrib/nbs/core/00_core.ipynb'),\n",
       " PosixPath('/Users/arseniy/Projects/dev/ds_contrib/nbs/core/03_video.ipynb'),\n",
       " PosixPath('/Users/arseniy/Projects/dev/ds_contrib/nbs/core/02_plotting.ipynb'),\n",
       " PosixPath('/Users/arseniy/Projects/dev/ds_contrib/nbs/core/01_paths.ipynb')]"
      ]
     },
     "execution_count": null,
     "metadata": {},
     "output_type": "execute_result"
    }
   ],
   "source": [
    "list(list_paths(Path.cwd(), recursive=True))"
   ]
  },
  {
   "cell_type": "code",
   "execution_count": null,
   "metadata": {},
   "outputs": [
    {
     "data": {
      "text/plain": [
       "[PosixPath('/Users/arseniy/Projects/dev/ds_contrib/nbs/core/00_core.ipynb'),\n",
       " PosixPath('/Users/arseniy/Projects/dev/ds_contrib/nbs/core/01_paths.ipynb'),\n",
       " PosixPath('/Users/arseniy/Projects/dev/ds_contrib/nbs/core/02_plotting.ipynb'),\n",
       " PosixPath('/Users/arseniy/Projects/dev/ds_contrib/nbs/core/03_video.ipynb')]"
      ]
     },
     "execution_count": null,
     "metadata": {},
     "output_type": "execute_result"
    }
   ],
   "source": [
    "list(list_paths(Path.cwd(), pattern=r\".*\\.(ipynb|css)$\", sort=True))"
   ]
  },
  {
   "cell_type": "code",
   "execution_count": null,
   "metadata": {},
   "outputs": [],
   "source": [
    "# | export\n",
    "\n",
    "from requests import get\n",
    "\n",
    "from ds_contrib.core.utils import listify\n",
    "\n",
    "\n",
    "def get_dir(path: PathLike):\n",
    "    path = Path(path)\n",
    "    if path.is_file():\n",
    "        return path.parent\n",
    "    else:\n",
    "        return path\n",
    "\n",
    "\n",
    "def shared_root(paths: Iterifiable[PathLike], only_files=False) -> Path:\n",
    "    \"\"\"Find the longest common root of a list of paths.\n",
    "\n",
    "    Parameters\n",
    "    ----------\n",
    "    paths : Iterable[PathLike]\n",
    "        Iterable of Path objects\n",
    "    only_files : bool, optional\n",
    "        If True, only consider the parent directory of each path, else try to intellectually find directory from each path, by default False\n",
    "\n",
    "    Returns\n",
    "    -------\n",
    "    Path\n",
    "        shared root\n",
    "\n",
    "    Raises\n",
    "    ------\n",
    "    ValueError\n",
    "        if paths is empty\n",
    "    \"\"\"\n",
    "    paths = listify(paths, none_handlings=\"empty\")\n",
    "    paths = list(map(lambda p: Path(p).absolute().resolve(), paths))\n",
    "\n",
    "    if len(paths) < 1:\n",
    "        raise ValueError(\"paths must be a non-empty list of paths\")\n",
    "    else:\n",
    "        root = paths[0].parent if only_files else get_dir(paths[0])\n",
    "        for p in paths[1:]:\n",
    "            p_dir = p.parent if only_files else get_dir(p)\n",
    "            if p_dir != root:\n",
    "                new_root = []\n",
    "                for root_part, p_part in zip(root.parts, p_dir.parts):\n",
    "                    if root_part != p_part:\n",
    "                        break\n",
    "                    else:\n",
    "                        new_root.append(root_part)\n",
    "                root = Path(*new_root)\n",
    "\n",
    "    return root"
   ]
  },
  {
   "cell_type": "code",
   "execution_count": null,
   "metadata": {},
   "outputs": [
    {
     "data": {
      "text/plain": [
       "PosixPath('/Users/arseniy/Projects/dev/ds_contrib/nbs/core')"
      ]
     },
     "execution_count": null,
     "metadata": {},
     "output_type": "execute_result"
    }
   ],
   "source": [
    "shared_root([Path(\"data\"), Path(\"images\"), Path(\"cat.jpg\")])"
   ]
  },
  {
   "cell_type": "code",
   "execution_count": null,
   "metadata": {},
   "outputs": [],
   "source": [
    "# | export\n",
    "\n",
    "\n",
    "def prepare_paths_for_transfer(\n",
    "    paths: Iterable[PathLike],\n",
    "    recursive: bool = False,\n",
    "    target_root: PathLike = None,\n",
    "    local_shared_root: PathLike = None,\n",
    ") -> Iterable[Path]:\n",
    "    \"\"\"Prepare paths for transfer to a remote machine. This function will resolve all paths to absolute paths,\n",
    "    and then return the paths relative to the shared root of all paths, if target_root is not None, the paths will be under target_root.\n",
    "\n",
    "    Parameters\n",
    "    ----------\n",
    "    paths : Iterable[PathLike]\n",
    "        iterable of paths or a single PathLike object\n",
    "    recursive : bool, optional\n",
    "        if True, search recursively in subfolders of paths that are directories, by default False\n",
    "    target_root : PathLike, optional\n",
    "        root path on the remote machine, by default None\n",
    "    local_shared_root : PathLike, optional\n",
    "        shared root of all paths, if None, the shared root will be computed from paths, by default None\n",
    "\n",
    "    Returns\n",
    "    -------\n",
    "    Iterable[Path]\n",
    "        iterator of paths\n",
    "    \"\"\"\n",
    "\n",
    "    if local_shared_root is None:\n",
    "        local_shared_root = shared_root(paths)\n",
    "    local_shared_root = Path(local_shared_root).resolve().absolute()\n",
    "    paths = list_paths(paths, recursive=recursive, only_files=True)\n",
    "    paths = map(lambda p: p.resolve().absolute(), paths)\n",
    "    yield from map(lambda p: Path(target_root) / p.relative_to(local_shared_root), paths)  # type: ignore"
   ]
  },
  {
   "cell_type": "code",
   "execution_count": null,
   "metadata": {},
   "outputs": [
    {
     "data": {
      "text/plain": [
       "[PosixPath('a/nbdev.yml'), PosixPath('a/sidebar.yml')]"
      ]
     },
     "execution_count": null,
     "metadata": {},
     "output_type": "execute_result"
    }
   ],
   "source": [
    "list(\n",
    "    prepare_paths_for_transfer(\n",
    "        [Path(\"../nbdev.yml\"), Path(\"../sidebar.yml\")], target_root=\"a\"\n",
    "    )\n",
    ")"
   ]
  },
  {
   "cell_type": "code",
   "execution_count": null,
   "metadata": {},
   "outputs": [
    {
     "data": {
      "text/plain": [
       "[PosixPath('a/nbs/nbdev.yml'), PosixPath('a/nbs/sidebar.yml')]"
      ]
     },
     "execution_count": null,
     "metadata": {},
     "output_type": "execute_result"
    }
   ],
   "source": [
    "list(\n",
    "    prepare_paths_for_transfer(\n",
    "        [Path(\"../nbdev.yml\"), Path(\"../sidebar.yml\")],\n",
    "        target_root=\"a\",\n",
    "        local_shared_root=\"../..\",\n",
    "    )\n",
    ")"
   ]
  },
  {
   "cell_type": "code",
   "execution_count": null,
   "metadata": {},
   "outputs": [],
   "source": [
    "# | export\n",
    "\n",
    "\n",
    "class Directory:\n",
    "    def __init__(self, path: PathLike = None, temporary=True):\n",
    "        \"\"\"Directory for storing files. Can be persistent or temporary. If temporary, it will be deleted on exit.\n",
    "\n",
    "        Parameters\n",
    "        ----------\n",
    "        path : PathLike, optional\n",
    "            Path to directory, if None, will be created temporary in current working directory, by default None\n",
    "        temporary : bool, optional\n",
    "            If True, directory will be deleted on exit, by default True\n",
    "        \"\"\"\n",
    "        self._is_tmp = temporary\n",
    "\n",
    "        self._path = self._init_dir(path)\n",
    "\n",
    "        self._lazy_tmp_dir = None\n",
    "\n",
    "        self._finalizer = _weakref.finalize(\n",
    "            self, self._cleanup, self._lazy_tmp_dir, self._path\n",
    "        )\n",
    "\n",
    "    @property\n",
    "    def is_initialized(self):\n",
    "        return not self._is_tmp or self._lazy_tmp_dir is not None\n",
    "\n",
    "    @property\n",
    "    def path(self) -> Path:\n",
    "        \"\"\"Path to directory. If temporary, will be created on first call.\n",
    "\n",
    "        Returns\n",
    "        -------\n",
    "        Path\n",
    "            Path to directory\n",
    "        \"\"\"\n",
    "        if not self.is_initialized:\n",
    "            self._init_tmp_dir()\n",
    "        return self._path\n",
    "\n",
    "    def _init_tmp_dir(self):\n",
    "        if self._path is None:\n",
    "            folder = Path.cwd()\n",
    "        else:\n",
    "            folder = self._path\n",
    "        self._lazy_tmp_dir = TemporaryDirectory(dir=folder)\n",
    "        self._path = Path(self._lazy_tmp_dir.name).absolute()\n",
    "        logger.info(f\"Created temporary directory for downloads: `{self._path}`\")\n",
    "\n",
    "    def _init_dir(self, path: PathLike = None):\n",
    "        if self._is_tmp:\n",
    "            if path is None:\n",
    "                logger.debug(\n",
    "                    f\"Temporary directory will be created with `{Path.cwd()}/$random_uuid` on first call of `path` property\"\n",
    "                )\n",
    "            else:\n",
    "                path = Path(path)\n",
    "                if not path.exists():\n",
    "                    raise FileNotFoundError(\n",
    "                        f\"Root directory for temporary directory does not exist `{path}`\"\n",
    "                    )\n",
    "                else:\n",
    "                    logger.debug(\n",
    "                        f\"Temporary directory will be created at `{path.absolute()}/$random_uuid` on first call of `path` property\"\n",
    "                    )\n",
    "            return path\n",
    "        else:\n",
    "            path = Path(path).resolve().absolute()\n",
    "            if path.is_file():\n",
    "                raise PathNotADirectoryError(path=path)\n",
    "            if path.exists():\n",
    "                logger.info(f\"Directory for downloads exists `{path}`\")\n",
    "                return path\n",
    "            else:\n",
    "                path.mkdir(parents=True, exist_ok=False)\n",
    "                logger.info(f\"Created persistent directory for downloads `{path}`\")\n",
    "                return path\n",
    "\n",
    "    def make_persistent(self, new_path: PathLike = None):\n",
    "        \"\"\"Makes temporary directory persistent.\n",
    "        If new_path is None, will be created in current working directory with name {dd/mm/yyyy}_{h/m/s}_tmp\n",
    "\n",
    "\n",
    "        Parameters\n",
    "        ----------\n",
    "        new_path : PathLike, optional\n",
    "            Path to new persistent directory, if exists, will raise FileExistsError, by default None\n",
    "\n",
    "        Raises\n",
    "        ------\n",
    "        ValueError\n",
    "            If directory is already persistent\n",
    "        FileExistsError\n",
    "            If new_path already exists\n",
    "        \"\"\"\n",
    "        if not self._is_tmp:\n",
    "            raise ValueError(f\"Directory `{self.path}` is already persistent\")\n",
    "\n",
    "        if new_path is None:\n",
    "            # create new path based on datetime format {dd/mm/yyyy}_{h/m/s}_tmp\n",
    "            new_path = Path(f\"{datetime.now().strftime('%d_%m_%Y-%H-%M-%S')}_tmp\")\n",
    "        else:\n",
    "            new_path = Path(new_path)\n",
    "        if new_path.exists():\n",
    "            raise FileExistsError(\n",
    "                f\"Directory `{new_path.absolute()}` already exists, cannot move to it\"\n",
    "            )\n",
    "        logger.info(f\"Moving temporary directory `{self.path}` to `{new_path}`\")\n",
    "        shutil.move(self.path, new_path)\n",
    "        self.cleanup()\n",
    "\n",
    "    @classmethod\n",
    "    def _cleanup(cls, tmp_dir, path: PathLike):\n",
    "        if tmp_dir:\n",
    "            logger.info(f\"Cleaning up temporary directory `{path}`\")\n",
    "            tmp_dir.cleanup()\n",
    "\n",
    "    def cleanup(self):\n",
    "        \"\"\"Cleanup temporary directory. If directory is persistent, will do nothing.\n",
    "        Use it if you want to delete temporary directory before exit. Automatically called on deletion of the Directory object (after garbage collection)\n",
    "        \"\"\"\n",
    "        if self._is_tmp:\n",
    "            if self._lazy_tmp_dir:\n",
    "                parent = self._path.parent\n",
    "                self._cleanup(self._lazy_tmp_dir, self._path)\n",
    "                self._lazy_tmp_dir = None\n",
    "                self._path = parent\n",
    "            else:\n",
    "                logger.info(f\"Tmp directory was not initialized, skipping cleanup\")\n",
    "        else:\n",
    "            logger.info(f\"Directory `{self._path}` is persistent, skipping cleanup\")"
   ]
  },
  {
   "cell_type": "code",
   "execution_count": null,
   "metadata": {},
   "outputs": [],
   "source": [
    "folder = Directory()\n",
    "# some method using folder.path\n",
    "folder.path\n",
    "\n",
    "folder.cleanup()"
   ]
  },
  {
   "cell_type": "code",
   "execution_count": null,
   "metadata": {},
   "outputs": [],
   "source": [
    "folder = Directory()\n",
    "# some method using folder.path\n",
    "folder.path\n",
    "\n",
    "del folder"
   ]
  },
  {
   "cell_type": "code",
   "execution_count": null,
   "metadata": {},
   "outputs": [],
   "source": [
    "folder = Directory()\n",
    "folder.make_persistent(\"./b\")\n",
    "Path(\"./b\").rmdir()"
   ]
  },
  {
   "cell_type": "markdown",
   "metadata": {},
   "source": [
    "---\n"
   ]
  },
  {
   "cell_type": "markdown",
   "metadata": {},
   "source": [
    "#| hide\n",
    "\n",
    "Utility section\n"
   ]
  },
  {
   "cell_type": "code",
   "execution_count": null,
   "metadata": {},
   "outputs": [],
   "source": [
    "# | hide\n",
    "from nbdev.showdoc import *"
   ]
  },
  {
   "cell_type": "code",
   "execution_count": null,
   "metadata": {},
   "outputs": [],
   "source": [
    "# | hide\n",
    "import nbdev\n",
    "\n",
    "nbdev.nbdev_export()"
   ]
  }
 ],
 "metadata": {
  "kernelspec": {
   "display_name": "python3",
   "language": "python",
   "name": "python3"
  },
  "language_info": {
   "name": "python",
   "version": "3.10.12"
  }
 },
 "nbformat": 4,
 "nbformat_minor": 2
}
