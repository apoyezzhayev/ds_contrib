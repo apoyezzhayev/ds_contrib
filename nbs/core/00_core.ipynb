{
 "cells": [
  {
   "cell_type": "markdown",
   "metadata": {},
   "source": [
    "# core\n",
    "\n",
    "> Utils useful for generic data processing\n"
   ]
  },
  {
   "cell_type": "code",
   "execution_count": null,
   "metadata": {},
   "outputs": [],
   "source": [
    "# | default_exp core.utils"
   ]
  },
  {
   "cell_type": "code",
   "execution_count": null,
   "metadata": {},
   "outputs": [],
   "source": [
    "#| hide\n",
    "%load_ext autoreload\n",
    "%autoreload 2"
   ]
  },
  {
   "cell_type": "code",
   "execution_count": null,
   "metadata": {},
   "outputs": [],
   "source": [
    "# | export\n",
    "\n",
    "from __future__ import annotations\n",
    "import os\n",
    "from typing import Any, TypeVar, Iterable, Literal"
   ]
  },
  {
   "cell_type": "code",
   "execution_count": null,
   "metadata": {},
   "outputs": [],
   "source": [
    "# | export\n",
    "\n",
    "T = TypeVar(\"T\")\n",
    "\n",
    "PathLike = str | os.PathLike | None\n",
    "Iterifiable = Iterable[T] | T | None"
   ]
  },
  {
   "cell_type": "markdown",
   "metadata": {},
   "source": [
    "## Class inspection\n",
    "\n",
    "> Class and object inspection functions.\n"
   ]
  },
  {
   "cell_type": "code",
   "execution_count": null,
   "metadata": {},
   "outputs": [],
   "source": [
    "# | export\n",
    "\n",
    "\n",
    "def get_class_vars(cls: type) -> dict[str, Any]:\n",
    "    \"\"\"Get all class variables of a class.\n",
    "\n",
    "    Parameters\n",
    "    ----------\n",
    "    cls : type\n",
    "        Class to get variables from.\n",
    "\n",
    "    Returns\n",
    "    -------\n",
    "    dict[str, Any]\n",
    "        Dictionary of class variables.\n",
    "    \"\"\"\n",
    "    return {\n",
    "        k: v\n",
    "        for k, v in cls.__dict__.items()\n",
    "        if not k.startswith(\"__\") and not callable(v)\n",
    "    }"
   ]
  },
  {
   "cell_type": "markdown",
   "metadata": {},
   "source": [
    "Example of class vars usage\n"
   ]
  },
  {
   "cell_type": "code",
   "execution_count": null,
   "metadata": {},
   "outputs": [
    {
     "data": {
      "text/plain": [
       "{'a': 1}"
      ]
     },
     "execution_count": null,
     "metadata": {},
     "output_type": "execute_result"
    }
   ],
   "source": [
    "from typing import ClassVar\n",
    "\n",
    "\n",
    "class A:\n",
    "    a: ClassVar[int] = 1\n",
    "\n",
    "\n",
    "get_class_vars(cls=A)"
   ]
  },
  {
   "cell_type": "code",
   "execution_count": null,
   "metadata": {},
   "outputs": [],
   "source": [
    "# | export\n",
    "\n",
    "\n",
    "def get_class_name(t: type) -> str:\n",
    "    \"\"\"Get the full name of a class inlcuding the module name.\n",
    "\n",
    "    Parameters\n",
    "    ----------\n",
    "    t : type\n",
    "        The type to get the name of.\n",
    "\n",
    "    Returns\n",
    "    -------\n",
    "    str\n",
    "        The full name of the type.\n",
    "    \"\"\"\n",
    "    if isinstance(t, type):\n",
    "        return f\"{t.__module__}.{t.__name__}\"\n",
    "    else:\n",
    "        raise TypeError(f\"Expected type, got {type(t)}\")\n",
    "\n",
    "\n",
    "def get_object_class_name(o: object) -> str:\n",
    "    \"\"\"Returns the full name of the class of an object.\n",
    "\n",
    "    Parameters\n",
    "    ----------\n",
    "    o : object\n",
    "        object to get the class name of.\n",
    "\n",
    "    Returns\n",
    "    -------\n",
    "    str\n",
    "        The full name of the class of the object.\n",
    "    \"\"\"\n",
    "    return get_class_name(o.__class__)"
   ]
  },
  {
   "cell_type": "markdown",
   "metadata": {},
   "source": [
    "## Utility convertes\n",
    "\n",
    "> Utility functions for converting between different formats.\n"
   ]
  },
  {
   "cell_type": "code",
   "execution_count": null,
   "metadata": {},
   "outputs": [],
   "source": [
    "# | export\n",
    "\n",
    "\n",
    "def iterify(obj: object) -> Iterable:\n",
    "    \"\"\"Make an object iterable if it is not already.\n",
    "\n",
    "    Parameters\n",
    "    ----------\n",
    "    obj : object\n",
    "        Input object to be made iterable if it is not already.\n",
    "\n",
    "    Returns\n",
    "    -------\n",
    "    Iterable\n",
    "        Iterable version of the input object.\n",
    "    \"\"\" \"\"\"\"\"\"\n",
    "    if isinstance(obj, Iterable) and not isinstance(obj, str):\n",
    "        return obj\n",
    "    else:\n",
    "        return [obj]"
   ]
  },
  {
   "cell_type": "code",
   "execution_count": null,
   "metadata": {},
   "outputs": [],
   "source": [
    "# | export\n",
    "\n",
    "from typing import Mapping\n",
    "\n",
    "\n",
    "def listify(\n",
    "    obj: object,\n",
    "    nested_collections: bool = False,\n",
    "    none_handlings: Literal[\"none\", \"empty\", \"wrap\", \"default\"] = \"empty\",\n",
    "    default_value: Any = None,\n",
    ") -> list | None:\n",
    "    \"\"\"Make an object a list if it is not already.\n",
    "\n",
    "    Parameters\n",
    "    ----------\n",
    "    obj : object\n",
    "        input object to be made a list if it is not already.\n",
    "    nested_collections : bool, optional\n",
    "        How to handle the case if input object is already a collection, if True, the input object will be wrapped in a list, if False, the input object will be converted to a list, by default False\n",
    "    none_handlings : Literal[&#39;none&#39;, &#39;empty&#39;, &#39;wrap&#39;, &#39;default&#39;], optional\n",
    "        How to handle the case if input object is None, by default &#39;empty&#39;\n",
    "            - &#39;none&#39;: return None\n",
    "            - &#39;empty&#39;: return an empty list\n",
    "            - &#39;wrap&#39;: return a list with None as the only element\n",
    "            - &#39;default&#39;: return a list with default_value as the only element\n",
    "    default_value : Any, optional\n",
    "        Default value to be used if none_handlings is &#39;default&#39;, by default None\n",
    "\n",
    "    Returns\n",
    "    -------\n",
    "    List\n",
    "        List version of the input object.\n",
    "\n",
    "    Raises\n",
    "    ------\n",
    "    ValueError\n",
    "        If none_handlings is not one of &#39;none&#39;, &#39;empty&#39;, &#39;wrap&#39;, &#39;default&#39;.\n",
    "    \"\"\"\n",
    "    if isinstance(obj, str):\n",
    "        return [obj]\n",
    "    elif isinstance(obj, (set, list, tuple, Mapping)):\n",
    "        if nested_collections:\n",
    "            return [obj]\n",
    "        else:\n",
    "            return list(obj)\n",
    "    elif obj is None:\n",
    "        if none_handlings == \"none\":\n",
    "            return None\n",
    "        elif none_handlings == \"empty\":\n",
    "            return []\n",
    "        elif none_handlings == \"wrap\":\n",
    "            return [None]\n",
    "        elif none_handlings == \"default\":\n",
    "            return [default_value]\n",
    "        else:\n",
    "            raise ValueError(\n",
    "                f\"Invalid none_handlings: `{none_handlings}`, choose from `none`, `empty`, `wrap`, `default`.\"\n",
    "            )\n",
    "    else:\n",
    "        return [obj]"
   ]
  },
  {
   "cell_type": "code",
   "execution_count": null,
   "metadata": {},
   "outputs": [
    {
     "data": {
      "text/plain": [
       "[None]"
      ]
     },
     "execution_count": null,
     "metadata": {},
     "output_type": "execute_result"
    }
   ],
   "source": [
    "listify(None, none_handlings=\"wrap\")"
   ]
  },
  {
   "cell_type": "code",
   "execution_count": null,
   "metadata": {},
   "outputs": [],
   "source": [
    "listify(None, none_handlings=\"none\")"
   ]
  },
  {
   "cell_type": "code",
   "execution_count": null,
   "metadata": {},
   "outputs": [
    {
     "data": {
      "text/plain": [
       "[1, 2, 3]"
      ]
     },
     "execution_count": null,
     "metadata": {},
     "output_type": "execute_result"
    }
   ],
   "source": [
    "listify([1, 2, 3])"
   ]
  },
  {
   "cell_type": "code",
   "execution_count": null,
   "metadata": {},
   "outputs": [
    {
     "data": {
      "text/plain": [
       "[1]"
      ]
     },
     "execution_count": null,
     "metadata": {},
     "output_type": "execute_result"
    }
   ],
   "source": [
    "listify(1)"
   ]
  },
  {
   "cell_type": "code",
   "execution_count": null,
   "metadata": {},
   "outputs": [
    {
     "data": {
      "text/plain": [
       "['a', 'b']"
      ]
     },
     "execution_count": null,
     "metadata": {},
     "output_type": "execute_result"
    }
   ],
   "source": [
    "list({\"a\": 1, \"b\": 2})"
   ]
  },
  {
   "cell_type": "code",
   "execution_count": null,
   "metadata": {},
   "outputs": [],
   "source": [
    "# | export\n",
    "\n",
    "\n",
    "def tuplify(obj: object, num: int = 2) -> tuple:\n",
    "    \"\"\"Convert an object to a tuple with length num, internally calls listify.\n",
    "\n",
    "    Parameters\n",
    "    ----------\n",
    "    obj : object\n",
    "        Input object to be converted to a tuple.\n",
    "    num : int, optional\n",
    "        Length of collection, by default 2\n",
    "\n",
    "    Returns\n",
    "    -------\n",
    "    tuple\n",
    "        Tuple version of the input object.\n",
    "    \"\"\"\n",
    "\n",
    "    if isinstance(obj, (tuple, list)):\n",
    "        if len(obj) == num:\n",
    "            return tuple(obj)\n",
    "        elif len(obj) < num:\n",
    "            return tuple([obj[i] if i < len(obj) else obj[0] for i in range(num)])\n",
    "        else:\n",
    "            return obj[:num]\n",
    "    else:\n",
    "        return tuple([obj] * num)"
   ]
  },
  {
   "cell_type": "code",
   "execution_count": null,
   "metadata": {},
   "outputs": [],
   "source": [
    "# | export\n",
    "\n",
    "\n",
    "def dictify_with_names(\n",
    "    data: Any | list | tuple | dict, default_name=\"image\"\n",
    ") -> dict[str, Any]:\n",
    "    \"\"\"Converts the data to a dictionary with names\n",
    "\n",
    "    Parameters\n",
    "    ----------\n",
    "    data : Any | list | tuple | dict\n",
    "        data to convert, may be a dictionary of {name: data}, a list, a tuple, list/tuple of 2 lists/tuples (names, datas) or a single object\n",
    "    default_name : str, optional\n",
    "        default name for the data that will be enumerated if the data is not a dictionary, by default 'image'\n",
    "\n",
    "    Returns\n",
    "    -------\n",
    "    dict[str, Any]\n",
    "        a dictionary of {name: data}\n",
    "\n",
    "    Raises\n",
    "    ------\n",
    "    ValueError\n",
    "        data[0] and data[1] must be the same length, but are {len(data[0])} and {len(data[1])} respectively\n",
    "    \"\"\"\n",
    "    if isinstance(data, dict):\n",
    "        return data\n",
    "    elif isinstance(data, (tuple, list)):\n",
    "        if (\n",
    "            len(data) == 2\n",
    "            and isinstance(data[0], (list, tuple))\n",
    "            and isinstance(data[1], (list, tuple))\n",
    "        ):\n",
    "            if len(data[0]) == len(data[1]):\n",
    "                return {data[0][i]: data[1][i] for i in range(len(data[0]))}\n",
    "            else:\n",
    "                raise ValueError(\n",
    "                    f\"data[0] and data[1] must be the same length, but are {len(data[0])} and {len(data[1])} respectively\"\n",
    "                )\n",
    "        else:\n",
    "            data = listify(data)\n",
    "            return {f\"{default_name}_{i}\": d for i, d in enumerate(data)}\n",
    "    else:\n",
    "        data = listify(data)\n",
    "        return {f\"{default_name}_{i}\": d for i, d in enumerate(data)}"
   ]
  },
  {
   "cell_type": "code",
   "execution_count": null,
   "metadata": {},
   "outputs": [
    {
     "data": {
      "text/plain": [
       "{'a': 1, 'b': 2, 'c': 3}"
      ]
     },
     "execution_count": null,
     "metadata": {},
     "output_type": "execute_result"
    }
   ],
   "source": [
    "dictify_with_names(([\"a\", \"b\", \"c\"], [1, 2, 3]))"
   ]
  },
  {
   "cell_type": "code",
   "execution_count": null,
   "metadata": {},
   "outputs": [
    {
     "data": {
      "text/plain": [
       "{'a': 1, 'b': 2, 'c': 3}"
      ]
     },
     "execution_count": null,
     "metadata": {},
     "output_type": "execute_result"
    }
   ],
   "source": [
    "dictify_with_names({\"a\": 1, \"b\": 2, \"c\": 3})"
   ]
  },
  {
   "cell_type": "code",
   "execution_count": null,
   "metadata": {},
   "outputs": [
    {
     "data": {
      "text/plain": [
       "{'param_0': 'a', 'param_1': 'b', 'param_2': 'c'}"
      ]
     },
     "execution_count": null,
     "metadata": {},
     "output_type": "execute_result"
    }
   ],
   "source": [
    "dictify_with_names([\"a\", \"b\", \"c\"], default_name=\"param\")"
   ]
  },
  {
   "cell_type": "code",
   "execution_count": null,
   "metadata": {},
   "outputs": [
    {
     "data": {
      "text/plain": [
       "{}"
      ]
     },
     "execution_count": null,
     "metadata": {},
     "output_type": "execute_result"
    }
   ],
   "source": [
    "dictify_with_names(None)"
   ]
  },
  {
   "cell_type": "code",
   "execution_count": null,
   "metadata": {},
   "outputs": [
    {
     "data": {
      "text/plain": [
       "{'image_0': 'a'}"
      ]
     },
     "execution_count": null,
     "metadata": {},
     "output_type": "execute_result"
    }
   ],
   "source": [
    "dictify_with_names(data=\"a\")"
   ]
  },
  {
   "cell_type": "markdown",
   "metadata": {},
   "source": [
    "We could use it to convert objects to iterables\n"
   ]
  },
  {
   "cell_type": "code",
   "execution_count": null,
   "metadata": {},
   "outputs": [],
   "source": [
    "# | hide\n",
    "from nbdev.showdoc import *"
   ]
  },
  {
   "cell_type": "code",
   "execution_count": null,
   "metadata": {},
   "outputs": [],
   "source": [
    "# | hide\n",
    "import nbdev\n",
    "\n",
    "nbdev.nbdev_export()"
   ]
  }
 ],
 "metadata": {
  "kernelspec": {
   "display_name": "python3",
   "language": "python",
   "name": "python3"
  }
 },
 "nbformat": 4,
 "nbformat_minor": 2
}
