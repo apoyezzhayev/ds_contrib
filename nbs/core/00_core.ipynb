{
 "cells": [
  {
   "cell_type": "markdown",
   "metadata": {},
   "source": [
    "# core\n",
    "\n",
    "> Utils useful for generic data processing\n"
   ]
  },
  {
   "cell_type": "code",
   "execution_count": null,
   "metadata": {},
   "outputs": [],
   "source": [
    "# | default_exp core.utils"
   ]
  },
  {
   "cell_type": "code",
   "execution_count": null,
   "metadata": {},
   "outputs": [],
   "source": [
    "#| hide\n",
    "%load_ext autoreload\n",
    "%autoreload 2"
   ]
  },
  {
   "cell_type": "code",
   "execution_count": null,
   "metadata": {},
   "outputs": [],
   "source": [
    "# | export\n",
    "\n",
    "from __future__ import annotations\n",
    "\n",
    "import inspect\n",
    "import logging\n",
    "import os\n",
    "from typing import Any, Callable, Container, Iterable, Literal, Mapping, TypeVar\n",
    "\n",
    "from fastcore.test import test_fail"
   ]
  },
  {
   "cell_type": "code",
   "execution_count": null,
   "metadata": {},
   "outputs": [],
   "source": [
    "# | export\n",
    "logger = logging.getLogger(__name__)\n",
    "\n",
    "T = TypeVar(\"T\")\n",
    "K = TypeVar(\"K\")\n",
    "\n",
    "PathLike = str | os.PathLike | None\n",
    "Iterifiable = Iterable[T] | T | None"
   ]
  },
  {
   "cell_type": "markdown",
   "metadata": {},
   "source": [
    "## Class inspection\n",
    "\n",
    "> Class and object inspection functions.\n"
   ]
  },
  {
   "cell_type": "code",
   "execution_count": null,
   "metadata": {},
   "outputs": [],
   "source": [
    "# | export\n",
    "\n",
    "\n",
    "def get_class_vars(cls: type) -> dict[str, Any]:\n",
    "    \"\"\"Get all class variables of a class.\n",
    "\n",
    "    Parameters\n",
    "    ----------\n",
    "    cls : type\n",
    "        Class to get variables from.\n",
    "\n",
    "    Returns\n",
    "    -------\n",
    "    dict[str, Any]\n",
    "        Dictionary of class variables.\n",
    "    \"\"\"\n",
    "    return {\n",
    "        k: v\n",
    "        for k, v in cls.__dict__.items()\n",
    "        if not k.startswith(\"__\") and not callable(v)\n",
    "    }"
   ]
  },
  {
   "cell_type": "markdown",
   "metadata": {},
   "source": [
    "Example of class vars usage\n"
   ]
  },
  {
   "cell_type": "code",
   "execution_count": null,
   "metadata": {},
   "outputs": [
    {
     "data": {
      "text/plain": [
       "{'a': 1}"
      ]
     },
     "execution_count": null,
     "metadata": {},
     "output_type": "execute_result"
    }
   ],
   "source": [
    "from typing import ClassVar\n",
    "\n",
    "\n",
    "class A:\n",
    "    a: ClassVar[int] = 1\n",
    "\n",
    "\n",
    "get_class_vars(cls=A)"
   ]
  },
  {
   "cell_type": "code",
   "execution_count": null,
   "metadata": {},
   "outputs": [],
   "source": [
    "# | export\n",
    "\n",
    "\n",
    "def get_class_name(t: type) -> str:\n",
    "    \"\"\"Get the full name of a class inlcuding the module name.\n",
    "\n",
    "    Parameters\n",
    "    ----------\n",
    "    t : type\n",
    "        The type to get the name of.\n",
    "\n",
    "    Returns\n",
    "    -------\n",
    "    str\n",
    "        The full name of the type.\n",
    "    \"\"\"\n",
    "    if isinstance(t, type):\n",
    "        return f\"{t.__module__}.{t.__name__}\"\n",
    "    else:\n",
    "        raise TypeError(f\"Expected type, got {type(t)}\")\n",
    "\n",
    "\n",
    "def get_object_class_name(o: object) -> str:\n",
    "    \"\"\"Returns the full name of the class of an object.\n",
    "\n",
    "    Parameters\n",
    "    ----------\n",
    "    o : object\n",
    "        object to get the class name of.\n",
    "\n",
    "    Returns\n",
    "    -------\n",
    "    str\n",
    "        The full name of the class of the object.\n",
    "    \"\"\"\n",
    "    return get_class_name(o.__class__)"
   ]
  },
  {
   "cell_type": "markdown",
   "metadata": {},
   "source": [
    "## Utility convertes\n",
    "\n",
    "> Utility functions for converting between different formats.\n"
   ]
  },
  {
   "cell_type": "code",
   "execution_count": null,
   "metadata": {},
   "outputs": [],
   "source": [
    "# | export\n",
    "\n",
    "\n",
    "def iterify(obj: object) -> Iterable:\n",
    "    \"\"\"Make an object iterable if it is not already.\n",
    "\n",
    "    Parameters\n",
    "    ----------\n",
    "    obj : object\n",
    "        Input object to be made iterable if it is not already.\n",
    "\n",
    "    Returns\n",
    "    -------\n",
    "    Iterable\n",
    "        Iterable version of the input object.\n",
    "    \"\"\" \"\"\"\"\"\"\n",
    "    if isinstance(obj, Iterable) and not isinstance(obj, str):\n",
    "        return obj\n",
    "    else:\n",
    "        return [obj]"
   ]
  },
  {
   "cell_type": "code",
   "execution_count": null,
   "metadata": {},
   "outputs": [],
   "source": [
    "# | export\n",
    "\n",
    "\n",
    "def listify(\n",
    "    obj: object,\n",
    "    nested_collections: bool = False,\n",
    "    none_handlings: Literal[\"none\", \"empty\", \"wrap\", \"default\"] = \"empty\",\n",
    "    default_value: Any = None,\n",
    ") -> list | None:\n",
    "    \"\"\"Make an object a list if it is not already.\n",
    "\n",
    "    Parameters\n",
    "    ----------\n",
    "    obj : object\n",
    "        input object to be made a list if it is not already.\n",
    "    nested_collections : bool, optional\n",
    "        How to handle the case if input object is already a collection, if True, the input object will be wrapped in a list, if False, the input object will be converted to a list, by default False\n",
    "    none_handlings : Literal[&#39;none&#39;, &#39;empty&#39;, &#39;wrap&#39;, &#39;default&#39;], optional\n",
    "        How to handle the case if input object is None, by default &#39;empty&#39;\n",
    "            - &#39;none&#39;: return None\n",
    "            - &#39;empty&#39;: return an empty list\n",
    "            - &#39;wrap&#39;: return a list with None as the only element\n",
    "            - &#39;default&#39;: return a list with default_value as the only element\n",
    "    default_value : Any, optional\n",
    "        Default value to be used if none_handlings is &#39;default&#39;, by default None\n",
    "\n",
    "    Returns\n",
    "    -------\n",
    "    List\n",
    "        List version of the input object.\n",
    "\n",
    "    Raises\n",
    "    ------\n",
    "    ValueError\n",
    "        If none_handlings is not one of &#39;none&#39;, &#39;empty&#39;, &#39;wrap&#39;, &#39;default&#39;.\n",
    "    \"\"\"\n",
    "    if isinstance(obj, str):\n",
    "        return [obj]\n",
    "    elif isinstance(obj, (set, list, tuple, Mapping)):\n",
    "        if nested_collections:\n",
    "            return [obj]\n",
    "        else:\n",
    "            return list(obj)\n",
    "    elif obj is None:\n",
    "        if none_handlings == \"none\":\n",
    "            return None\n",
    "        elif none_handlings == \"empty\":\n",
    "            return []\n",
    "        elif none_handlings == \"wrap\":\n",
    "            return [None]\n",
    "        elif none_handlings == \"default\":\n",
    "            return [default_value]\n",
    "        else:\n",
    "            raise ValueError(\n",
    "                f\"Invalid none_handlings: `{none_handlings}`, choose from `none`, `empty`, `wrap`, `default`.\"\n",
    "            )\n",
    "    else:\n",
    "        return [obj]"
   ]
  },
  {
   "cell_type": "code",
   "execution_count": null,
   "metadata": {},
   "outputs": [
    {
     "data": {
      "text/plain": [
       "[None]"
      ]
     },
     "execution_count": null,
     "metadata": {},
     "output_type": "execute_result"
    }
   ],
   "source": [
    "listify(None, none_handlings=\"wrap\")"
   ]
  },
  {
   "cell_type": "code",
   "execution_count": null,
   "metadata": {},
   "outputs": [],
   "source": [
    "listify(None, none_handlings=\"none\")"
   ]
  },
  {
   "cell_type": "code",
   "execution_count": null,
   "metadata": {},
   "outputs": [
    {
     "data": {
      "text/plain": [
       "[1, 2, 3]"
      ]
     },
     "execution_count": null,
     "metadata": {},
     "output_type": "execute_result"
    }
   ],
   "source": [
    "listify([1, 2, 3])"
   ]
  },
  {
   "cell_type": "code",
   "execution_count": null,
   "metadata": {},
   "outputs": [
    {
     "data": {
      "text/plain": [
       "[1]"
      ]
     },
     "execution_count": null,
     "metadata": {},
     "output_type": "execute_result"
    }
   ],
   "source": [
    "listify(1)"
   ]
  },
  {
   "cell_type": "code",
   "execution_count": null,
   "metadata": {},
   "outputs": [
    {
     "data": {
      "text/plain": [
       "['a', 'b']"
      ]
     },
     "execution_count": null,
     "metadata": {},
     "output_type": "execute_result"
    }
   ],
   "source": [
    "list({\"a\": 1, \"b\": 2})"
   ]
  },
  {
   "cell_type": "code",
   "execution_count": null,
   "metadata": {},
   "outputs": [],
   "source": [
    "# | export\n",
    "\n",
    "\n",
    "def tuplify(obj: object, num: int = 2) -> tuple:\n",
    "    \"\"\"Convert an object to a tuple with length num, internally calls listify.\n",
    "\n",
    "    Parameters\n",
    "    ----------\n",
    "    obj : object\n",
    "        Input object to be converted to a tuple.\n",
    "    num : int, optional\n",
    "        Length of collection, by default 2\n",
    "\n",
    "    Returns\n",
    "    -------\n",
    "    tuple\n",
    "        Tuple version of the input object.\n",
    "    \"\"\"\n",
    "\n",
    "    if isinstance(obj, (tuple, list)):\n",
    "        if len(obj) == num:\n",
    "            return tuple(obj)\n",
    "        elif len(obj) < num:\n",
    "            return tuple([obj[i] if i < len(obj) else obj[0] for i in range(num)])\n",
    "        else:\n",
    "            return obj[:num]\n",
    "    else:\n",
    "        return tuple([obj] * num)"
   ]
  },
  {
   "cell_type": "code",
   "execution_count": null,
   "metadata": {},
   "outputs": [],
   "source": [
    "# | export\n",
    "\n",
    "\n",
    "def dictify_with_names(\n",
    "    data: Any | list | tuple | dict, default_name=\"image\"\n",
    ") -> dict[str, Any]:\n",
    "    \"\"\"Converts the data to a dictionary with names\n",
    "\n",
    "    Parameters\n",
    "    ----------\n",
    "    data : Any | list | tuple | dict\n",
    "        data to convert, may be a dictionary of {name: data}, a list, a tuple, list/tuple of 2 lists/tuples (names, datas) or a single object\n",
    "    default_name : str, optional\n",
    "        default name for the data that will be enumerated if the data is not a dictionary, by default 'image'\n",
    "\n",
    "    Returns\n",
    "    -------\n",
    "    dict[str, Any]\n",
    "        a dictionary of {name: data}\n",
    "\n",
    "    Raises\n",
    "    ------\n",
    "    ValueError\n",
    "        data[0] and data[1] must be the same length, but are {len(data[0])} and {len(data[1])} respectively\n",
    "    \"\"\"\n",
    "    if isinstance(data, dict):\n",
    "        return data\n",
    "    elif isinstance(data, (tuple, list)):\n",
    "        if (\n",
    "            len(data) == 2\n",
    "            and isinstance(data[0], (list, tuple))\n",
    "            and isinstance(data[1], (list, tuple))\n",
    "        ):\n",
    "            if len(data[0]) == len(data[1]):\n",
    "                return {data[0][i]: data[1][i] for i in range(len(data[0]))}\n",
    "            else:\n",
    "                raise ValueError(\n",
    "                    f\"data[0] and data[1] must be the same length, but are {len(data[0])} and {len(data[1])} respectively\"\n",
    "                )\n",
    "        else:\n",
    "            data = listify(data)\n",
    "            return {f\"{default_name}_{i}\": d for i, d in enumerate(data)}\n",
    "    else:\n",
    "        data = listify(data)\n",
    "        return {f\"{default_name}_{i}\": d for i, d in enumerate(data)}"
   ]
  },
  {
   "cell_type": "code",
   "execution_count": null,
   "metadata": {},
   "outputs": [
    {
     "data": {
      "text/plain": [
       "{'a': 1, 'b': 2, 'c': 3}"
      ]
     },
     "execution_count": null,
     "metadata": {},
     "output_type": "execute_result"
    }
   ],
   "source": [
    "dictify_with_names(([\"a\", \"b\", \"c\"], [1, 2, 3]))"
   ]
  },
  {
   "cell_type": "code",
   "execution_count": null,
   "metadata": {},
   "outputs": [
    {
     "data": {
      "text/plain": [
       "{'a': 1, 'b': 2, 'c': 3}"
      ]
     },
     "execution_count": null,
     "metadata": {},
     "output_type": "execute_result"
    }
   ],
   "source": [
    "dictify_with_names({\"a\": 1, \"b\": 2, \"c\": 3})"
   ]
  },
  {
   "cell_type": "code",
   "execution_count": null,
   "metadata": {},
   "outputs": [
    {
     "data": {
      "text/plain": [
       "{'param_0': 'a', 'param_1': 'b', 'param_2': 'c'}"
      ]
     },
     "execution_count": null,
     "metadata": {},
     "output_type": "execute_result"
    }
   ],
   "source": [
    "dictify_with_names([\"a\", \"b\", \"c\"], default_name=\"param\")"
   ]
  },
  {
   "cell_type": "code",
   "execution_count": null,
   "metadata": {},
   "outputs": [
    {
     "data": {
      "text/plain": [
       "{}"
      ]
     },
     "execution_count": null,
     "metadata": {},
     "output_type": "execute_result"
    }
   ],
   "source": [
    "dictify_with_names(None)"
   ]
  },
  {
   "cell_type": "code",
   "execution_count": null,
   "metadata": {},
   "outputs": [
    {
     "data": {
      "text/plain": [
       "{'image_0': 'a'}"
      ]
     },
     "execution_count": null,
     "metadata": {},
     "output_type": "execute_result"
    }
   ],
   "source": [
    "dictify_with_names(data=\"a\")"
   ]
  },
  {
   "cell_type": "markdown",
   "metadata": {},
   "source": [
    "## Existence handlers\n"
   ]
  },
  {
   "cell_type": "code",
   "execution_count": null,
   "metadata": {},
   "outputs": [],
   "source": [
    "# | export\n",
    "\n",
    "\n",
    "def handle_existing(\n",
    "    obj: K | T,\n",
    "    existence_predicate: Callable[[T], bool],\n",
    "    must_exist: bool = True,\n",
    "    obj_processor: Callable[[K], T] | None = None,\n",
    "    obj_type_name: str = \"object\",\n",
    "    strategy: Literal[\"skip\", \"overwrite\", \"raise\"] = \"skip\",\n",
    "    error_type: type[Exception] = ValueError,\n",
    ") -> T | None:\n",
    "    \"\"\"Handle existing object in the way specified by strategy.\n",
    "\n",
    "    Parameters\n",
    "    ----------\n",
    "    obj : K | T\n",
    "        object to be handled, may be key, filename, etc.\n",
    "    existence_predicate : Callable[[T], bool]\n",
    "        function that returns True if key  (object) exists, False otherwise\n",
    "    must_exist : bool, optional\n",
    "        whether the object must exist or not,\n",
    "            if False and object does not exist, the strategy is applied,\n",
    "            if True and object does exist, the strategy is not applied, by default True\n",
    "    obj_processor : Callable[[K], T] | None, optional\n",
    "        function that converts object to the key used in predicate,\n",
    "        if None, obj is used itself, by default None\n",
    "    obj_type_name : str, optional\n",
    "        name of the object type, that will be used in logging, by default \"object\"\n",
    "    strategy : Literal['skip', 'overwrite', 'raise'], optional\n",
    "        how to handle existing object:\n",
    "        - \"skip\": skip the object (return None)\n",
    "        - \"overwrite\": overwrite the object (return path)\n",
    "        - \"raise\": raise an error (raise ExistsError)\n",
    "        (default: \"skip\")\n",
    "    error_type : type[Exception], optional\n",
    "        type of error to raise if strategy is \"raise\", by default ValueError\n",
    "\n",
    "    Returns\n",
    "    -------\n",
    "    K | T | None:\n",
    "        if object must be skipped, returns None, if overwrite or object does not exist, returns object\n",
    "\n",
    "    Raises\n",
    "    ------\n",
    "    ValueError\n",
    "        if existing_handling is not one of \"skip\", \"overwrite\", or \"raise\"\n",
    "    \"\"\"\n",
    "    obj: T = obj_processor(obj) if obj_processor else obj  # type: ignore\n",
    "    exists = not existence_predicate(obj) if must_exist else existence_predicate(obj)\n",
    "    if exists:\n",
    "        msg = f\"{obj_type_name.capitalize()} `{str(obj)}` {'does not exist' if must_exist else 'already exists'}\"\n",
    "        if strategy == \"skip\":\n",
    "            logger.info(f\"{msg}, skipping\")\n",
    "            return None\n",
    "        elif strategy == \"overwrite\":\n",
    "            logger.warning(f\"{msg}, {'creating' if must_exist else 'overwriting'}\")\n",
    "            return obj\n",
    "        elif strategy == \"raise\":\n",
    "            raise error_type(f\"{msg}\")\n",
    "        else:\n",
    "            raise ValueError(f\"Unknown existing_handling strategy: `{strategy}`\")\n",
    "    else:\n",
    "        return obj\n",
    "\n",
    "\n",
    "def hadnle_existing_key(\n",
    "    key: K,\n",
    "    container: Container,\n",
    "    must_exist: bool = True,\n",
    "    strategy: Literal[\"skip\", \"overwrite\", \"raise\"] = \"skip\",\n",
    ") -> K | None:\n",
    "    \"\"\"Handle existing key in the way specified by strategy.\n",
    "\n",
    "    Parameters\n",
    "    ----------\n",
    "    key : K\n",
    "        key to be handled\n",
    "    container : Container\n",
    "        container to check if key exists in\n",
    "    must_exist : bool, optional\n",
    "        whether the object must exist or not, if False and object does not exist the strategy is applied, by default True\n",
    "    strategy : Literal['skip', 'overwrite', 'raise'], optional\n",
    "        how to handle existing key:\n",
    "        - \"skip\": skip the key (return None)\n",
    "        - \"overwrite\": overwrite the key (return key)\n",
    "        - \"raise\": raise an error (raise ExistsError)\n",
    "        (default: \"skip\")\n",
    "\n",
    "    Returns\n",
    "    -------\n",
    "    K | None:\n",
    "        if key must be skipped, returns None, if overwrite or key does not exist, returns key\n",
    "\n",
    "    Raises\n",
    "    ------\n",
    "    KeyError\n",
    "        if key exists and existing_handling is \"raise\"\n",
    "    ValueError\n",
    "        if existing_handling is not one of \"skip\", \"overwrite\", or \"raise\"\n",
    "    \"\"\"\n",
    "    return handle_existing(\n",
    "        key,\n",
    "        lambda k: k in container,\n",
    "        must_exist=must_exist,\n",
    "        obj_type_name=\"key\",\n",
    "        strategy=strategy,\n",
    "        error_type=KeyError,\n",
    "    )"
   ]
  },
  {
   "cell_type": "code",
   "execution_count": null,
   "metadata": {},
   "outputs": [
    {
     "name": "stderr",
     "output_type": "stream",
     "text": [
      "Key `a` already exists, overwriting\n"
     ]
    },
    {
     "data": {
      "text/plain": [
       "'a'"
      ]
     },
     "execution_count": null,
     "metadata": {},
     "output_type": "execute_result"
    }
   ],
   "source": [
    "d_with = {\"a\": 2}\n",
    "handle_existing(\n",
    "    \"a\",\n",
    "    lambda x: x in d_with,\n",
    "    must_exist=False,\n",
    "    obj_type_name=\"key\",\n",
    "    strategy=\"overwrite\",\n",
    ")"
   ]
  },
  {
   "cell_type": "code",
   "execution_count": null,
   "metadata": {},
   "outputs": [
    {
     "name": "stderr",
     "output_type": "stream",
     "text": [
      "Key `a` does not exist, creating\n"
     ]
    },
    {
     "data": {
      "text/plain": [
       "'a'"
      ]
     },
     "execution_count": null,
     "metadata": {},
     "output_type": "execute_result"
    }
   ],
   "source": [
    "d_without = {}\n",
    "handle_existing(\n",
    "    \"a\",\n",
    "    lambda x: x in d_without,\n",
    "    must_exist=True,\n",
    "    obj_type_name=\"key\",\n",
    "    strategy=\"overwrite\",\n",
    ")"
   ]
  },
  {
   "cell_type": "code",
   "execution_count": null,
   "metadata": {},
   "outputs": [],
   "source": [
    "hadnle_existing_key(\"a\", d_with, must_exist=False, strategy=\"skip\")"
   ]
  },
  {
   "cell_type": "code",
   "execution_count": null,
   "metadata": {},
   "outputs": [],
   "source": [
    "hadnle_existing_key(\"a\", d_without, must_exist=True, strategy=\"skip\")"
   ]
  },
  {
   "cell_type": "markdown",
   "metadata": {},
   "source": [
    "## Arguments processing\n"
   ]
  },
  {
   "cell_type": "code",
   "execution_count": null,
   "metadata": {},
   "outputs": [],
   "source": [
    "# | export\n",
    "\n",
    "\n",
    "def exclusive_args(\n",
    "    exclusive_arg_names: Iterifiable[str] = [],\n",
    "    may_be_empty: bool = False,\n",
    "    empty_value: Any = None,\n",
    "):\n",
    "    \"\"\"Decorator that ensures that only one of the arguments is passed.\n",
    "\n",
    "    Parameters\n",
    "    ----------\n",
    "    exclusive_arg_names : Iterifiable[str], optional\n",
    "        list of argument names that are exclusive, by default [], must conform to argument names of the decorated function\n",
    "    may_be_empty : bool, optional\n",
    "        whether the list of exclusive arguments passed to function can be empty, by default False\n",
    "    empty_value : Any, optional\n",
    "        value that is considered empty, by default None\n",
    "\n",
    "    Returns\n",
    "    -------\n",
    "    Callable\n",
    "        decorated function\n",
    "\n",
    "    Raises\n",
    "    ------\n",
    "    ValueError\n",
    "        if more than one of the exclusive arguments is passed\n",
    "    ValueError\n",
    "        if none of the exclusive arguments is passed and may_be_empty is False\n",
    "    \"\"\"\n",
    "\n",
    "    exclusive_arg_names: list[str] = listify(exclusive_arg_names)\n",
    "\n",
    "    def decorator(func):\n",
    "        parameters = inspect.signature(func).parameters\n",
    "        may_be_positional_arg_names = [\n",
    "            name\n",
    "            for name, param in parameters.items()\n",
    "            if param.kind == param.POSITIONAL_OR_KEYWORD\n",
    "        ]\n",
    "        positions_of_exclusive_arg_names = set(\n",
    "            [\n",
    "                ind\n",
    "                for ind, name in enumerate(may_be_positional_arg_names)\n",
    "                if name in exclusive_arg_names\n",
    "            ]\n",
    "        )\n",
    "\n",
    "        def wrapper(*args, **kwargs):\n",
    "            count = 0\n",
    "            for ind, arg in enumerate(args):\n",
    "                if ind in positions_of_exclusive_arg_names and arg != empty_value:\n",
    "                    count += 1\n",
    "            for arg_name, arg in kwargs.items():\n",
    "                if arg_name in exclusive_arg_names and arg != empty_value:\n",
    "                    count += 1\n",
    "            if not may_be_empty and count == 0:\n",
    "                raise ValueError(\n",
    "                    \"Exactly one of the arguments must be passed, but no exclusive argument provided from: \"\n",
    "                    + \", \".join(exclusive_arg_names)\n",
    "                )\n",
    "            if count > 1:\n",
    "                raise ValueError(\n",
    "                    \"Only one of the arguments can be passed from: \"\n",
    "                    + \", \".join(exclusive_arg_names)\n",
    "                )\n",
    "            return func(*args, **kwargs)\n",
    "\n",
    "        return wrapper\n",
    "\n",
    "    return decorator"
   ]
  },
  {
   "cell_type": "markdown",
   "metadata": {},
   "source": [
    "#### Exclusive arguments examples\n"
   ]
  },
  {
   "cell_type": "code",
   "execution_count": null,
   "metadata": {},
   "outputs": [],
   "source": [
    "@exclusive_args([\"exc_a\", \"exc_d\"])\n",
    "def foo(exc_a, b=None, c=5, exc_d=None):\n",
    "    print(exc_a, b, c, exc_d)"
   ]
  },
  {
   "cell_type": "markdown",
   "metadata": {},
   "source": [
    "Only `exc_d` is used, and `exc_a` explicitly set to `None`\n"
   ]
  },
  {
   "cell_type": "code",
   "execution_count": null,
   "metadata": {},
   "outputs": [
    {
     "name": "stdout",
     "output_type": "stream",
     "text": [
      "None 2 5 3\n"
     ]
    }
   ],
   "source": [
    "foo(None, b=2, exc_d=3)"
   ]
  },
  {
   "cell_type": "markdown",
   "metadata": {},
   "source": [
    "`exc_a` is used, and `exc_d` implicitly set to `None`, by default\n"
   ]
  },
  {
   "cell_type": "code",
   "execution_count": null,
   "metadata": {},
   "outputs": [
    {
     "name": "stdout",
     "output_type": "stream",
     "text": [
      "3 2 5 None\n"
     ]
    }
   ],
   "source": [
    "foo(3, b=2)"
   ]
  },
  {
   "cell_type": "markdown",
   "metadata": {},
   "source": [
    "Explicitly set `exc_a` to `None`, and by default `exc_d` is `None`. In decorator we used `may_be_empty`=`False`, therefore raising an error\n"
   ]
  },
  {
   "cell_type": "code",
   "execution_count": null,
   "metadata": {},
   "outputs": [],
   "source": [
    "# will raise ValueError\n",
    "test_fail(\n",
    "    lambda: foo(None),\n",
    "    contains=\"Exactly one of the arguments must be passed, but no exclusive argument provided from: exc_a, exc_d\",\n",
    ")"
   ]
  },
  {
   "cell_type": "markdown",
   "metadata": {},
   "source": [
    "Other fail cases\n"
   ]
  },
  {
   "cell_type": "code",
   "execution_count": null,
   "metadata": {},
   "outputs": [],
   "source": [
    "# will raise ValueError\n",
    "test_fail(\n",
    "    lambda: foo(3, b=2, exc_d=3),\n",
    "    contains=\"Only one of the arguments can be passed from: exc_a, exc_d\",\n",
    ")"
   ]
  },
  {
   "cell_type": "code",
   "execution_count": null,
   "metadata": {},
   "outputs": [],
   "source": [
    "# will raise ValueError\n",
    "test_fail(\n",
    "    lambda: foo(3, 2, 5, 7),\n",
    "    contains=\"Only one of the arguments can be passed from: exc_a, exc_d\",\n",
    ")"
   ]
  },
  {
   "cell_type": "markdown",
   "metadata": {},
   "source": [
    "We could use it to convert objects to iterables\n"
   ]
  },
  {
   "cell_type": "code",
   "execution_count": null,
   "metadata": {},
   "outputs": [],
   "source": [
    "# | hide\n",
    "from nbdev.showdoc import *"
   ]
  },
  {
   "cell_type": "code",
   "execution_count": null,
   "metadata": {},
   "outputs": [],
   "source": [
    "# | hide\n",
    "import nbdev\n",
    "\n",
    "nbdev.nbdev_export()"
   ]
  }
 ],
 "metadata": {
  "kernelspec": {
   "display_name": "python3",
   "language": "python",
   "name": "python3"
  }
 },
 "nbformat": 4,
 "nbformat_minor": 2
}
