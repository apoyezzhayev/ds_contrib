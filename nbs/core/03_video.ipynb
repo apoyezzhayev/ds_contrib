{
 "cells": [
  {
   "cell_type": "markdown",
   "metadata": {},
   "source": [
    "# video\n",
    "\n",
    "> Video processing and sampling utils\n"
   ]
  },
  {
   "cell_type": "code",
   "execution_count": null,
   "metadata": {},
   "outputs": [],
   "source": [
    "# | default_exp core.data.video"
   ]
  },
  {
   "cell_type": "code",
   "execution_count": null,
   "metadata": {},
   "outputs": [],
   "source": [
    "#| hide\n",
    "%load_ext autoreload\n",
    "%autoreload 2"
   ]
  },
  {
   "cell_type": "code",
   "execution_count": null,
   "metadata": {},
   "outputs": [],
   "source": [
    "# | export\n",
    "from __future__ import annotations\n",
    "\n",
    "from pathlib import Path\n",
    "\n",
    "import cv2\n",
    "from tqdm.auto import tqdm\n",
    "\n",
    "from ds_contrib.core.paths import PathLike"
   ]
  },
  {
   "cell_type": "code",
   "execution_count": null,
   "metadata": {},
   "outputs": [],
   "source": [
    "# | export\n",
    "\n",
    "\n",
    "def sample_frames_from_video(\n",
    "    input_video: PathLike,\n",
    "    output_frames_dir: PathLike,\n",
    "    start_frame=0,\n",
    "    max_frames=None,\n",
    "    time_delta=5,\n",
    "):\n",
    "    \"\"\"Sample frames from a video and save them to a directory.\n",
    "\n",
    "    Simple sampler based on time delta between frames.\n",
    "\n",
    "    Parameters\n",
    "    ----------\n",
    "    input_video : PathLike\n",
    "        path to the video file\n",
    "    output_frames_dir : PathLike\n",
    "        path to the directory where frames will be saved\n",
    "        NOTE: directory will be created if it doesn't exist, frames will be written to the subdirectory \"part_{i:04d}\"\n",
    "        because batching is used, by default if the batch size is None all the frames will be saved to the same directory\n",
    "    start_frame : int, optional\n",
    "        from which frame to start sampling, by default 0\n",
    "    max_frames : _type_, optional\n",
    "        maximum number of frames to sample, by default None\n",
    "    time_delta : int, optional\n",
    "        time delta between frames in seconds, by default 5\n",
    "\n",
    "    Raises\n",
    "    ------\n",
    "    ValueError\n",
    "        if batch index (number of batches) is too large, max is 9999. Split video to shorter clips.\n",
    "    \"\"\"\n",
    "    # Open the video file\n",
    "    output_frames_dir = Path(output_frames_dir)\n",
    "    output_frames_dir.mkdir(parents=True, exist_ok=True)\n",
    "    cap = cv2.VideoCapture(str(input_video))\n",
    "    fps = cap.get(cv2.CAP_PROP_FPS)\n",
    "    num_frames = int(cap.get(cv2.CAP_PROP_FRAME_COUNT))\n",
    "    max_frames = max_frames or num_frames\n",
    "    # get resolution\n",
    "    frame_delta = int(fps * time_delta)\n",
    "    for frame_ind in tqdm(\n",
    "        range(start_frame, num_frames, frame_delta), desc=\"Sampling frames\", leave=False\n",
    "    ):\n",
    "        # Set the frame position\n",
    "        cap.set(cv2.CAP_PROP_POS_FRAMES, frame_ind)\n",
    "        # Read the frame\n",
    "        ret, frame = cap.read()\n",
    "        if not ret:\n",
    "            break\n",
    "        batch_ind = frame_ind // (max_frames * frame_delta)\n",
    "        if batch_ind > 9999:\n",
    "            raise ValueError(\n",
    "                f\"Batch index {batch_ind} is too large, max is 9999. Split video to shorter clips.\"\n",
    "            )\n",
    "        # Save the frame\n",
    "        batch_dir = output_frames_dir / f\"part_{batch_ind:04d}\"\n",
    "        batch_dir.mkdir(parents=True, exist_ok=True)\n",
    "        cv2.imwrite(\n",
    "            str(batch_dir / f\"{frame_ind:08d}.jpg\"),\n",
    "            frame,\n",
    "            [cv2.IMWRITE_JPEG_QUALITY, 100],\n",
    "        )\n",
    "\n",
    "    cap.release()"
   ]
  },
  {
   "cell_type": "markdown",
   "metadata": {},
   "source": [
    "---\n"
   ]
  },
  {
   "cell_type": "markdown",
   "metadata": {},
   "source": [
    "#| hide\n",
    "\n",
    "Utility section\n"
   ]
  },
  {
   "cell_type": "code",
   "execution_count": null,
   "metadata": {},
   "outputs": [],
   "source": [
    "# | hide\n",
    "from nbdev.showdoc import *"
   ]
  },
  {
   "cell_type": "code",
   "execution_count": null,
   "metadata": {},
   "outputs": [],
   "source": [
    "# | hide\n",
    "import nbdev\n",
    "\n",
    "nbdev.nbdev_export()"
   ]
  }
 ],
 "metadata": {
  "kernelspec": {
   "display_name": "python3",
   "language": "python",
   "name": "python3"
  }
 },
 "nbformat": 4,
 "nbformat_minor": 2
}
